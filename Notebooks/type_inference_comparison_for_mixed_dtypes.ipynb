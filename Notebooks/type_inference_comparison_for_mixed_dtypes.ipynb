{
 "cells": [
  {
   "cell_type": "markdown",
   "id": "5ba02bba-9167-4928-9fce-6015f3f17bde",
   "metadata": {},
   "source": [
    "# Comparing type inference methods for mixed data arrays\n",
    "\n",
    "When a data array has mixed data types such as `[True, 0.0]`, pandas infer the array as `object` dtype. To do so, pandas use `pandas.DataFrame.infer_objects`. However, a lot of different types of mixed arrays can be inferred as `object` dtype. This \"blancket\" approach might be useful for practical data handling but it is not suitable for more accurate and granular type inference.\n",
    "\n",
    "Unlike this, `pandas.api.types.infer_dtype` provides a much more granular type inference and it can ignore null values (`skipna=True`). The method returns a name of inferred type as a string. For the comprehensive list of the type names, see the [pandas documentation](https://pandas.pydata.org/pandas-docs/stable/reference/api/pandas.api.types.infer_dtype.html)\n",
    "\n",
    "This notebook compares the two type inference methods of pandas (`pandas.DataFrame.infer_objects` and `pandas.api.types.infer_dtype`) when they are faced with various cases of mixed arrays. Here, I use `None, array(list), str, bool, float, int`, data types to generate various combinations of mixed arrays, and we use both inference methods to compare the results."
   ]
  },
  {
   "cell_type": "code",
   "execution_count": 1,
   "id": "3791c520-1a4e-447a-b5c8-3c6c801ec4d8",
   "metadata": {
    "tags": []
   },
   "outputs": [],
   "source": [
    "import pandas as pd\n",
    "import numpy as np"
   ]
  },
  {
   "cell_type": "markdown",
   "id": "8fecab6e-1b85-45aa-a552-757fe99b6296",
   "metadata": {},
   "source": [
    "## Generating toy example of mixed arrays\n",
    "Here I generate a dataframe with various mixed types. I use \"nan\"(`np.nan`), \"none\", \"array\" (`list`), \"str\", \"bool\", \"float\", \"int\" types to generate exhaustive combinations for a 2-element array. To emphasize the inference method comparison, I assign `object` dtype to all columns."
   ]
  },
  {
   "cell_type": "code",
   "execution_count": 2,
   "id": "b2a4941e-169a-4482-bcfa-cfd42c6813cc",
   "metadata": {
    "tags": []
   },
   "outputs": [
    {
     "name": "stdout",
     "output_type": "stream",
     "text": [
      "object    28\n",
      "dtype: int64\n"
     ]
    }
   ],
   "source": [
    "example = pd.DataFrame(\n",
    "    {\n",
    "        'nan': [np.nan, np.nan],\n",
    "        'nan_none': [np.nan, None],\n",
    "        'nan_array': [np.nan, []],\n",
    "        'nan_str': [np.nan, \"a\"],\n",
    "        'nan_bool': [np.nan, True],        \n",
    "        'nan_float': [np.nan, 1.0],        \n",
    "        'nan_int': [np.nan, 1],\n",
    "        'none': [None, None],        \n",
    "        'none_array': [None, []],\n",
    "        'none_str': [None, \"a\"],        \n",
    "        'none_bool': [None, True],\n",
    "        'none_float': [None, 0.0],\n",
    "        'none_int': [None, 1],\n",
    "        'array': [[], []],\n",
    "        'array_str': [[], \"a\"],\n",
    "        'array_bool': [[], True],\n",
    "        'array_float': [[], 1.0],\n",
    "        'array_int': [[], 1],\n",
    "        'str': [\"a\", \"b\"],\n",
    "        'str_bool': [\"a\", True],\n",
    "        'str_float': [\"a\", 1.0],\n",
    "        'str_int': [\"a\", 1],\n",
    "        'bool': [True, False],\n",
    "        'bool_float': [True, 0.0],\n",
    "        'bool_int': [True, 1],\n",
    "        'float': [1.0, 0.0],\n",
    "        'float_int': [1.0, 0],\n",
    "        'int': [1, 0],\n",
    "    },\n",
    "    dtype=object\n",
    ")\n",
    "print(example.dtypes.value_counts())"
   ]
  },
  {
   "cell_type": "code",
   "execution_count": 3,
   "id": "992bfe14-39d5-41b9-b4b6-81311e9fdbac",
   "metadata": {
    "tags": []
   },
   "outputs": [
    {
     "data": {
      "text/html": [
       "<div>\n",
       "<style scoped>\n",
       "    .dataframe tbody tr th:only-of-type {\n",
       "        vertical-align: middle;\n",
       "    }\n",
       "\n",
       "    .dataframe tbody tr th {\n",
       "        vertical-align: top;\n",
       "    }\n",
       "\n",
       "    .dataframe thead th {\n",
       "        text-align: right;\n",
       "    }\n",
       "</style>\n",
       "<table border=\"1\" class=\"dataframe\">\n",
       "  <thead>\n",
       "    <tr style=\"text-align: right;\">\n",
       "      <th></th>\n",
       "      <th>nan</th>\n",
       "      <th>nan_none</th>\n",
       "      <th>nan_array</th>\n",
       "      <th>nan_str</th>\n",
       "      <th>nan_bool</th>\n",
       "      <th>nan_float</th>\n",
       "      <th>nan_int</th>\n",
       "      <th>none</th>\n",
       "      <th>none_array</th>\n",
       "      <th>none_str</th>\n",
       "      <th>...</th>\n",
       "      <th>str</th>\n",
       "      <th>str_bool</th>\n",
       "      <th>str_float</th>\n",
       "      <th>str_int</th>\n",
       "      <th>bool</th>\n",
       "      <th>bool_float</th>\n",
       "      <th>bool_int</th>\n",
       "      <th>float</th>\n",
       "      <th>float_int</th>\n",
       "      <th>int</th>\n",
       "    </tr>\n",
       "  </thead>\n",
       "  <tbody>\n",
       "    <tr>\n",
       "      <th>0</th>\n",
       "      <td>NaN</td>\n",
       "      <td>NaN</td>\n",
       "      <td>NaN</td>\n",
       "      <td>NaN</td>\n",
       "      <td>NaN</td>\n",
       "      <td>NaN</td>\n",
       "      <td>NaN</td>\n",
       "      <td>None</td>\n",
       "      <td>None</td>\n",
       "      <td>None</td>\n",
       "      <td>...</td>\n",
       "      <td>a</td>\n",
       "      <td>a</td>\n",
       "      <td>a</td>\n",
       "      <td>a</td>\n",
       "      <td>True</td>\n",
       "      <td>True</td>\n",
       "      <td>True</td>\n",
       "      <td>1.0</td>\n",
       "      <td>1.0</td>\n",
       "      <td>1</td>\n",
       "    </tr>\n",
       "    <tr>\n",
       "      <th>1</th>\n",
       "      <td>NaN</td>\n",
       "      <td>None</td>\n",
       "      <td>[]</td>\n",
       "      <td>a</td>\n",
       "      <td>True</td>\n",
       "      <td>1.0</td>\n",
       "      <td>1</td>\n",
       "      <td>None</td>\n",
       "      <td>[]</td>\n",
       "      <td>a</td>\n",
       "      <td>...</td>\n",
       "      <td>b</td>\n",
       "      <td>True</td>\n",
       "      <td>1.0</td>\n",
       "      <td>1</td>\n",
       "      <td>False</td>\n",
       "      <td>0.0</td>\n",
       "      <td>1</td>\n",
       "      <td>0.0</td>\n",
       "      <td>0</td>\n",
       "      <td>0</td>\n",
       "    </tr>\n",
       "  </tbody>\n",
       "</table>\n",
       "<p>2 rows × 28 columns</p>\n",
       "</div>"
      ],
      "text/plain": [
       "   nan nan_none nan_array nan_str nan_bool nan_float nan_int  none none_array  \\\n",
       "0  NaN      NaN       NaN     NaN      NaN       NaN     NaN  None       None   \n",
       "1  NaN     None        []       a     True       1.0       1  None         []   \n",
       "\n",
       "  none_str  ... str str_bool str_float str_int   bool bool_float bool_int  \\\n",
       "0     None  ...   a        a         a       a   True       True     True   \n",
       "1        a  ...   b     True       1.0       1  False        0.0        1   \n",
       "\n",
       "  float float_int int  \n",
       "0   1.0       1.0   1  \n",
       "1   0.0         0   0  \n",
       "\n",
       "[2 rows x 28 columns]"
      ]
     },
     "execution_count": 3,
     "metadata": {},
     "output_type": "execute_result"
    }
   ],
   "source": [
    "example.head()"
   ]
  },
  {
   "cell_type": "markdown",
   "id": "010ffc4e-45ed-4c28-9ae0-d312fff67871",
   "metadata": {},
   "source": [
    "## Type inference with `pandas.DataFrame.infer_objects`"
   ]
  },
  {
   "cell_type": "code",
   "execution_count": 4,
   "id": "889a05aa-2582-4b9f-bd04-40367eb0e344",
   "metadata": {
    "tags": []
   },
   "outputs": [
    {
     "data": {
      "text/html": [
       "<div>\n",
       "<style scoped>\n",
       "    .dataframe tbody tr th:only-of-type {\n",
       "        vertical-align: middle;\n",
       "    }\n",
       "\n",
       "    .dataframe tbody tr th {\n",
       "        vertical-align: top;\n",
       "    }\n",
       "\n",
       "    .dataframe thead th {\n",
       "        text-align: right;\n",
       "    }\n",
       "</style>\n",
       "<table border=\"1\" class=\"dataframe\">\n",
       "  <thead>\n",
       "    <tr style=\"text-align: right;\">\n",
       "      <th></th>\n",
       "      <th>0</th>\n",
       "      <th>1</th>\n",
       "      <th>pd_infer_objects</th>\n",
       "    </tr>\n",
       "  </thead>\n",
       "  <tbody>\n",
       "    <tr>\n",
       "      <th>nan</th>\n",
       "      <td>NaN</td>\n",
       "      <td>NaN</td>\n",
       "      <td>float64</td>\n",
       "    </tr>\n",
       "    <tr>\n",
       "      <th>nan_none</th>\n",
       "      <td>NaN</td>\n",
       "      <td>None</td>\n",
       "      <td>float64</td>\n",
       "    </tr>\n",
       "    <tr>\n",
       "      <th>nan_array</th>\n",
       "      <td>NaN</td>\n",
       "      <td>[]</td>\n",
       "      <td>object</td>\n",
       "    </tr>\n",
       "    <tr>\n",
       "      <th>nan_str</th>\n",
       "      <td>NaN</td>\n",
       "      <td>a</td>\n",
       "      <td>object</td>\n",
       "    </tr>\n",
       "    <tr>\n",
       "      <th>nan_bool</th>\n",
       "      <td>NaN</td>\n",
       "      <td>True</td>\n",
       "      <td>object</td>\n",
       "    </tr>\n",
       "  </tbody>\n",
       "</table>\n",
       "</div>"
      ],
      "text/plain": [
       "             0     1 pd_infer_objects\n",
       "nan        NaN   NaN          float64\n",
       "nan_none   NaN  None          float64\n",
       "nan_array  NaN    []           object\n",
       "nan_str    NaN     a           object\n",
       "nan_bool   NaN  True           object"
      ]
     },
     "execution_count": 4,
     "metadata": {},
     "output_type": "execute_result"
    }
   ],
   "source": [
    "example_results = example.T\n",
    "example_results['pd_infer_objects'] = example.infer_objects().dtypes\n",
    "example_results.head()"
   ]
  },
  {
   "cell_type": "markdown",
   "id": "b3dc881f-66cd-468a-af87-4c49d6e730e4",
   "metadata": {},
   "source": [
    "## Type inference with `pandas.api.types.infer_dtype`\n",
    "Here type inference is done with and without na values."
   ]
  },
  {
   "cell_type": "code",
   "execution_count": 5,
   "id": "2fffe96a-ee40-4a50-8972-b46906f75b2c",
   "metadata": {
    "tags": []
   },
   "outputs": [
    {
     "data": {
      "text/html": [
       "<div>\n",
       "<style scoped>\n",
       "    .dataframe tbody tr th:only-of-type {\n",
       "        vertical-align: middle;\n",
       "    }\n",
       "\n",
       "    .dataframe tbody tr th {\n",
       "        vertical-align: top;\n",
       "    }\n",
       "\n",
       "    .dataframe thead th {\n",
       "        text-align: right;\n",
       "    }\n",
       "</style>\n",
       "<table border=\"1\" class=\"dataframe\">\n",
       "  <thead>\n",
       "    <tr style=\"text-align: right;\">\n",
       "      <th></th>\n",
       "      <th>0</th>\n",
       "      <th>1</th>\n",
       "      <th>pd_infer_objects</th>\n",
       "      <th>pd_infer_dtype</th>\n",
       "      <th>pd_infer_dtype_skipna</th>\n",
       "    </tr>\n",
       "  </thead>\n",
       "  <tbody>\n",
       "    <tr>\n",
       "      <th>nan</th>\n",
       "      <td>NaN</td>\n",
       "      <td>NaN</td>\n",
       "      <td>float64</td>\n",
       "      <td>floating</td>\n",
       "      <td>empty</td>\n",
       "    </tr>\n",
       "    <tr>\n",
       "      <th>nan_none</th>\n",
       "      <td>NaN</td>\n",
       "      <td>None</td>\n",
       "      <td>float64</td>\n",
       "      <td>mixed</td>\n",
       "      <td>empty</td>\n",
       "    </tr>\n",
       "    <tr>\n",
       "      <th>nan_array</th>\n",
       "      <td>NaN</td>\n",
       "      <td>[]</td>\n",
       "      <td>object</td>\n",
       "      <td>mixed</td>\n",
       "      <td>mixed</td>\n",
       "    </tr>\n",
       "    <tr>\n",
       "      <th>nan_str</th>\n",
       "      <td>NaN</td>\n",
       "      <td>a</td>\n",
       "      <td>object</td>\n",
       "      <td>mixed</td>\n",
       "      <td>string</td>\n",
       "    </tr>\n",
       "    <tr>\n",
       "      <th>nan_bool</th>\n",
       "      <td>NaN</td>\n",
       "      <td>True</td>\n",
       "      <td>object</td>\n",
       "      <td>mixed</td>\n",
       "      <td>boolean</td>\n",
       "    </tr>\n",
       "  </tbody>\n",
       "</table>\n",
       "</div>"
      ],
      "text/plain": [
       "             0     1 pd_infer_objects pd_infer_dtype pd_infer_dtype_skipna\n",
       "nan        NaN   NaN          float64       floating                 empty\n",
       "nan_none   NaN  None          float64          mixed                 empty\n",
       "nan_array  NaN    []           object          mixed                 mixed\n",
       "nan_str    NaN     a           object          mixed                string\n",
       "nan_bool   NaN  True           object          mixed               boolean"
      ]
     },
     "execution_count": 5,
     "metadata": {},
     "output_type": "execute_result"
    }
   ],
   "source": [
    "example_results['pd_infer_dtype'] = example.apply(lambda x:pd.api.types.infer_dtype(x, skipna=False))\n",
    "example_results['pd_infer_dtype_skipna'] = example.apply(lambda x:pd.api.types.infer_dtype(x, skipna=True))\n",
    "example_results.head()"
   ]
  },
  {
   "cell_type": "markdown",
   "id": "d5b42789-f56f-45af-80bb-35355e113f0f",
   "metadata": {},
   "source": [
    "## Comparison: with vs. without na values in `pandas.api.types.infer_dtype`"
   ]
  },
  {
   "cell_type": "markdown",
   "id": "6842dc22-a1e4-42a4-9c6f-3cd376c3241e",
   "metadata": {},
   "source": [
    "When we don't ignore na values, we often get `\"mixed\"` results from `pandas.api.types.infer_dtype` for arrays that are essentially quite different. For instance, in the table above, the last 3 rows (`\"nan_array\", \"nan_str\", \"nan_bool\"`) all are identified as `\"mixed\"` when we don't ignore nan. \n",
    "\n",
    "However, when we ignore na values, `\"nan_array\"` is identified as `\"mixed\"`, `\"nan_str\"` as `\"string\"`, `\"nan_bool\"` as `\"boolean\"`, which means the correct data types are identified."
   ]
  },
  {
   "cell_type": "markdown",
   "id": "fba3b20f-4adf-40fc-ae79-78fd865d523a",
   "metadata": {},
   "source": [
    "## Comparison: `pandas.DataFrame.infer_objects` vs. `pandas.api.types.infer_dtype(skipna=True)`"
   ]
  },
  {
   "cell_type": "markdown",
   "id": "43a156f7-fe12-4093-a64a-6ee23e46326f",
   "metadata": {},
   "source": [
    "As I mentioned before, `pandas.DataFrame.infer_objects` has a blanket approach to mixed data arrays. We can select specific columns in the toy example where `pandas.DataFrame.infer_objects` identified them as `object` and examine the type inference result from `pandas.api.types.infer_dtype(skipna=True)` to compare the two type inference methods."
   ]
  },
  {
   "cell_type": "code",
   "execution_count": 6,
   "id": "f8e3242e-7d90-4e7e-a7a3-1012464128ca",
   "metadata": {
    "tags": []
   },
   "outputs": [
    {
     "data": {
      "text/html": [
       "<div>\n",
       "<style scoped>\n",
       "    .dataframe tbody tr th:only-of-type {\n",
       "        vertical-align: middle;\n",
       "    }\n",
       "\n",
       "    .dataframe tbody tr th {\n",
       "        vertical-align: top;\n",
       "    }\n",
       "\n",
       "    .dataframe thead th {\n",
       "        text-align: right;\n",
       "    }\n",
       "</style>\n",
       "<table border=\"1\" class=\"dataframe\">\n",
       "  <thead>\n",
       "    <tr style=\"text-align: right;\">\n",
       "      <th></th>\n",
       "      <th>0</th>\n",
       "      <th>1</th>\n",
       "      <th>pd_infer_objects</th>\n",
       "      <th>pd_infer_dtype_skipna</th>\n",
       "    </tr>\n",
       "  </thead>\n",
       "  <tbody>\n",
       "    <tr>\n",
       "      <th>nan_bool</th>\n",
       "      <td>NaN</td>\n",
       "      <td>True</td>\n",
       "      <td>object</td>\n",
       "      <td>boolean</td>\n",
       "    </tr>\n",
       "    <tr>\n",
       "      <th>none_bool</th>\n",
       "      <td>None</td>\n",
       "      <td>True</td>\n",
       "      <td>object</td>\n",
       "      <td>boolean</td>\n",
       "    </tr>\n",
       "    <tr>\n",
       "      <th>none</th>\n",
       "      <td>None</td>\n",
       "      <td>None</td>\n",
       "      <td>object</td>\n",
       "      <td>empty</td>\n",
       "    </tr>\n",
       "    <tr>\n",
       "      <th>nan_array</th>\n",
       "      <td>NaN</td>\n",
       "      <td>[]</td>\n",
       "      <td>object</td>\n",
       "      <td>mixed</td>\n",
       "    </tr>\n",
       "    <tr>\n",
       "      <th>str_float</th>\n",
       "      <td>a</td>\n",
       "      <td>1.0</td>\n",
       "      <td>object</td>\n",
       "      <td>mixed</td>\n",
       "    </tr>\n",
       "    <tr>\n",
       "      <th>str_bool</th>\n",
       "      <td>a</td>\n",
       "      <td>True</td>\n",
       "      <td>object</td>\n",
       "      <td>mixed</td>\n",
       "    </tr>\n",
       "    <tr>\n",
       "      <th>array_float</th>\n",
       "      <td>[]</td>\n",
       "      <td>1.0</td>\n",
       "      <td>object</td>\n",
       "      <td>mixed</td>\n",
       "    </tr>\n",
       "    <tr>\n",
       "      <th>array_bool</th>\n",
       "      <td>[]</td>\n",
       "      <td>True</td>\n",
       "      <td>object</td>\n",
       "      <td>mixed</td>\n",
       "    </tr>\n",
       "    <tr>\n",
       "      <th>array_str</th>\n",
       "      <td>[]</td>\n",
       "      <td>a</td>\n",
       "      <td>object</td>\n",
       "      <td>mixed</td>\n",
       "    </tr>\n",
       "    <tr>\n",
       "      <th>array</th>\n",
       "      <td>[]</td>\n",
       "      <td>[]</td>\n",
       "      <td>object</td>\n",
       "      <td>mixed</td>\n",
       "    </tr>\n",
       "    <tr>\n",
       "      <th>none_array</th>\n",
       "      <td>None</td>\n",
       "      <td>[]</td>\n",
       "      <td>object</td>\n",
       "      <td>mixed</td>\n",
       "    </tr>\n",
       "    <tr>\n",
       "      <th>bool_float</th>\n",
       "      <td>True</td>\n",
       "      <td>0.0</td>\n",
       "      <td>object</td>\n",
       "      <td>mixed</td>\n",
       "    </tr>\n",
       "    <tr>\n",
       "      <th>array_int</th>\n",
       "      <td>[]</td>\n",
       "      <td>1</td>\n",
       "      <td>object</td>\n",
       "      <td>mixed-integer</td>\n",
       "    </tr>\n",
       "    <tr>\n",
       "      <th>str_int</th>\n",
       "      <td>a</td>\n",
       "      <td>1</td>\n",
       "      <td>object</td>\n",
       "      <td>mixed-integer</td>\n",
       "    </tr>\n",
       "    <tr>\n",
       "      <th>bool_int</th>\n",
       "      <td>True</td>\n",
       "      <td>1</td>\n",
       "      <td>object</td>\n",
       "      <td>mixed-integer</td>\n",
       "    </tr>\n",
       "    <tr>\n",
       "      <th>none_str</th>\n",
       "      <td>None</td>\n",
       "      <td>a</td>\n",
       "      <td>object</td>\n",
       "      <td>string</td>\n",
       "    </tr>\n",
       "    <tr>\n",
       "      <th>str</th>\n",
       "      <td>a</td>\n",
       "      <td>b</td>\n",
       "      <td>object</td>\n",
       "      <td>string</td>\n",
       "    </tr>\n",
       "    <tr>\n",
       "      <th>nan_str</th>\n",
       "      <td>NaN</td>\n",
       "      <td>a</td>\n",
       "      <td>object</td>\n",
       "      <td>string</td>\n",
       "    </tr>\n",
       "  </tbody>\n",
       "</table>\n",
       "</div>"
      ],
      "text/plain": [
       "                0     1 pd_infer_objects pd_infer_dtype_skipna\n",
       "nan_bool      NaN  True           object               boolean\n",
       "none_bool    None  True           object               boolean\n",
       "none         None  None           object                 empty\n",
       "nan_array     NaN    []           object                 mixed\n",
       "str_float       a   1.0           object                 mixed\n",
       "str_bool        a  True           object                 mixed\n",
       "array_float    []   1.0           object                 mixed\n",
       "array_bool     []  True           object                 mixed\n",
       "array_str      []     a           object                 mixed\n",
       "array          []    []           object                 mixed\n",
       "none_array   None    []           object                 mixed\n",
       "bool_float   True   0.0           object                 mixed\n",
       "array_int      []     1           object         mixed-integer\n",
       "str_int         a     1           object         mixed-integer\n",
       "bool_int     True     1           object         mixed-integer\n",
       "none_str     None     a           object                string\n",
       "str             a     b           object                string\n",
       "nan_str       NaN     a           object                string"
      ]
     },
     "execution_count": 6,
     "metadata": {},
     "output_type": "execute_result"
    }
   ],
   "source": [
    "example_results[example_results['pd_infer_objects'] == object].drop('pd_infer_dtype', axis=1).sort_values(by='pd_infer_dtype_skipna')"
   ]
  },
  {
   "cell_type": "markdown",
   "id": "decca0bf-f1e3-4b6b-9314-ff675513af9a",
   "metadata": {},
   "source": [
    "This shows that a variety of mixed arrays is inferred as `object` by `pandas.DataFrame.infer_objects` but `pandas.api.types.infer_dtype(skipna=True)` can often identify true types. It's true that the latter returns a lot of different arrays as `\"mixed\"` but most of them are those which have non-numerical values such as string or array. \n",
    "\n",
    "One interesting observation is that `[True, 0.0]` is inferred as `\"mixed\"` but `[True, 1]` as `\"mixed-integer\"`, which implies that `pandas.api.types.infer_dtype` method is designed to show presence of integer in inferred type information."
   ]
  },
  {
   "cell_type": "markdown",
   "id": "502a8621-0d36-47e1-a77f-dd5d6f7106de",
   "metadata": {},
   "source": [
    "Finally, we can compare the returned values of two methods:"
   ]
  },
  {
   "cell_type": "code",
   "execution_count": 7,
   "id": "bd601df0-8797-4da3-8d81-9006bb4e60c1",
   "metadata": {
    "tags": []
   },
   "outputs": [
    {
     "name": "stdout",
     "output_type": "stream",
     "text": [
      "int64 <class 'numpy.dtype[int64]'>\n",
      "float64 <class 'numpy.dtype[float64]'>\n",
      "bool <class 'numpy.dtype[bool_]'>\n",
      "object <class 'numpy.dtype[object_]'>\n"
     ]
    }
   ],
   "source": [
    "for val in set(example_results['pd_infer_objects']):\n",
    "    print(val, type(val))"
   ]
  },
  {
   "cell_type": "code",
   "execution_count": 8,
   "id": "4ea2f495-c820-4733-8611-fdb8ead00094",
   "metadata": {},
   "outputs": [
    {
     "name": "stdout",
     "output_type": "stream",
     "text": [
      "mixed <class 'str'>\n",
      "floating <class 'str'>\n",
      "boolean <class 'str'>\n",
      "mixed-integer <class 'str'>\n",
      "string <class 'str'>\n",
      "integer <class 'str'>\n",
      "mixed-integer-float <class 'str'>\n",
      "empty <class 'str'>\n"
     ]
    }
   ],
   "source": [
    "for val in set(example_results['pd_infer_dtype_skipna']):\n",
    "    print(val, type(val))"
   ]
  },
  {
   "cell_type": "markdown",
   "id": "70044e1e-d30d-49d8-b5d4-715f0963c201",
   "metadata": {},
   "source": [
    "This shows that `pandas.DataFrame.infer_objects` returns a readily usable python types as inference results but `pandas.api.types.infer_dtype` returns string values, that need to be further processed or mapped if we want to cast data types."
   ]
  },
  {
   "cell_type": "markdown",
   "id": "b52412a7-788b-4a57-9c4a-02286c23025c",
   "metadata": {},
   "source": [
    "## Conlusions"
   ]
  },
  {
   "cell_type": "markdown",
   "id": "5207a8aa-db9c-406a-8600-0547bd3bafa0",
   "metadata": {},
   "source": [
    "Pandas has two type inference methods: `pandas.DataFrame.infer_objects`, `pandas.api.types.infer_dtype`. \n",
    "\n",
    "`pandas.DataFrame.infer_objects` is designed to return practical data types that can be easily cast on arrays, and thus its type inference tends to adopt a blanket approach where type inference should just work to handle the data immediately.\n",
    "\n",
    "On the other hand, `pandas.api.types.infer_dtype` does a more granular type inference job where it can also ignore na values. However, it returns string values as results, not python types, and thus we need a further process to use this information for type casting."
   ]
  }
 ],
 "metadata": {
  "kernelspec": {
   "display_name": "Python 3 (ipykernel)",
   "language": "python",
   "name": "python3"
  },
  "language_info": {
   "codemirror_mode": {
    "name": "ipython",
    "version": 3
   },
   "file_extension": ".py",
   "mimetype": "text/x-python",
   "name": "python",
   "nbconvert_exporter": "python",
   "pygments_lexer": "ipython3",
   "version": "3.9.16"
  }
 },
 "nbformat": 4,
 "nbformat_minor": 5
}
