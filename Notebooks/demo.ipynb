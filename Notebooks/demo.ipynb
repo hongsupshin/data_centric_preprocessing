{
 "cells": [
  {
   "cell_type": "markdown",
   "id": "2766aa6f-fcdf-4c4f-91ef-9d3dac2fd9dc",
   "metadata": {},
   "source": [
    "# Data-centric ML pipeline demo\n",
    "For source code and notebooks, check the [repository](https://github.com/hongsupshin/data_centric_preprocessing)."
   ]
  },
  {
   "cell_type": "code",
   "execution_count": 1,
   "id": "ef4484bd-d65f-4148-ad5e-40bcfe1c6436",
   "metadata": {
    "tags": []
   },
   "outputs": [],
   "source": [
    "import pandas as pd\n",
    "import numpy as np\n",
    "import os\n",
    "import sys\n",
    "import joblib\n",
    "import time\n",
    "\n",
    "sys.path.append('../')\n",
    "\n",
    "from data_centric_preprocessing.create_schema import *\n",
    "from data_centric_preprocessing.data_schema import *\n",
    "from data_centric_preprocessing.util import *\n",
    "from data_centric_preprocessing.config import *"
   ]
  },
  {
   "cell_type": "markdown",
   "id": "b413b8fa-99d1-4a53-b602-1365db7c5b22",
   "metadata": {},
   "source": [
    "## 1. No mismatch"
   ]
  },
  {
   "cell_type": "code",
   "execution_count": 2,
   "id": "bb88ff9f-bc86-4d02-8e65-9d55b07b03a3",
   "metadata": {
    "tags": []
   },
   "outputs": [],
   "source": [
    "X_train = pd.DataFrame({\n",
    "    \"col_bool\": [np.nan, True, False],\n",
    "    \"col_num\": [np.nan, 0.5, 10],\n",
    "    \"col_str\": [np.nan, \"A\", \"B\"],\n",
    "    \"col_array\": [np.nan, [\"A\"], [\"B\"]],\n",
    "    \"col_null\": [np.nan, np.nan, np.nan]}, dtype=object)\n",
    "\n",
    "X_serve = X_train.copy()"
   ]
  },
  {
   "cell_type": "markdown",
   "id": "8c3fa92c-c454-4e66-ae55-0dbaa9df1fed",
   "metadata": {},
   "source": [
    "Training"
   ]
  },
  {
   "cell_type": "code",
   "execution_count": 3,
   "id": "29cbacdb-2c2a-43fd-a59e-11457f559a49",
   "metadata": {
    "tags": []
   },
   "outputs": [],
   "source": [
    "def preprocess_train(X_train):\n",
    "\n",
    "    X_train = drop_non_informative_features(X_train, seed_patterns=[\"SEED$\"])\n",
    "    schema_train = build_schema(\n",
    "        X_train,\n",
    "        numpy_dtype_map=numpy_dtype_map,\n",
    "        custom_dtype_map=custom_dtype_map,\n",
    "        nominal_num_patterns=nominal_num_patterns,\n",
    "        catch_invariant_with_missing=True\n",
    "    )\n",
    "    X_train = cast_numpy_dtype(X_train, schema_train)\n",
    "    preprocessor = build_preprocessor(\n",
    "        schema_train,\n",
    "        transformer_map=transformer_map,\n",
    "        preprocessor_steps=preprocessor_steps\n",
    "    )\n",
    "    X_train_transformed = preprocessor.fit_transform(X_train)    \n",
    "    \n",
    "    return X_train_transformed, schema_train, preprocessor\n",
    "\n",
    "def preprocess_serve(X_serve, schema_train):\n",
    "    \n",
    "    X_serve = drop_non_informative_features(X_serve, seed_patterns=[\"SEED$\"])\n",
    "    schema_serve = build_schema(\n",
    "        X_serve,\n",
    "        numpy_dtype_map=numpy_dtype_map,\n",
    "        custom_dtype_map=custom_dtype_map,\n",
    "        nominal_num_patterns=nominal_num_patterns,\n",
    "        catch_invariant_with_missing=True\n",
    "    )\n",
    "    X_serve = cast_numpy_dtype(X_serve, schema_serve)\n",
    "    X_serve = match_cols(X_serve, schema_train.index)\n",
    "    X_serve = replace_numpy_dtype_mismatch(schema_train, schema_serve, X_serve)\n",
    "\n",
    "    X_serve_transformed = preprocessor.transform(X_serve)\n",
    "    \n",
    "    return X_serve_transformed, schema_serve"
   ]
  },
  {
   "cell_type": "markdown",
   "id": "ee0facd7-00ea-4520-ba3b-d4c591756e6e",
   "metadata": {},
   "source": [
    "Training"
   ]
  },
  {
   "cell_type": "code",
   "execution_count": 4,
   "id": "b5789c30-3942-4cf8-b458-6311224f6f12",
   "metadata": {
    "tags": []
   },
   "outputs": [
    {
     "name": "stdout",
     "output_type": "stream",
     "text": [
      "[[ 2.    2.    0.5   5.25]\n",
      " [ 0.    0.    1.    0.5 ]\n",
      " [ 1.    1.    0.   10.  ]]\n"
     ]
    }
   ],
   "source": [
    "X_train_transformed, schema_train, preprocessor = preprocess_train(X_train)\n",
    "print(X_train_transformed)"
   ]
  },
  {
   "cell_type": "code",
   "execution_count": 5,
   "id": "6ba8ac2f-d7c7-424e-93a0-966eb88e6080",
   "metadata": {
    "tags": []
   },
   "outputs": [
    {
     "data": {
      "text/html": [
       "<div>\n",
       "<style scoped>\n",
       "    .dataframe tbody tr th:only-of-type {\n",
       "        vertical-align: middle;\n",
       "    }\n",
       "\n",
       "    .dataframe tbody tr th {\n",
       "        vertical-align: top;\n",
       "    }\n",
       "\n",
       "    .dataframe thead th {\n",
       "        text-align: right;\n",
       "    }\n",
       "</style>\n",
       "<table border=\"1\" class=\"dataframe\">\n",
       "  <thead>\n",
       "    <tr style=\"text-align: right;\">\n",
       "      <th></th>\n",
       "      <th>pandas_dtype</th>\n",
       "      <th>numpy_dtype</th>\n",
       "      <th>custom_dtype</th>\n",
       "    </tr>\n",
       "  </thead>\n",
       "  <tbody>\n",
       "    <tr>\n",
       "      <th>col_bool</th>\n",
       "      <td>boolean</td>\n",
       "      <td>&lt;class 'float'&gt;</td>\n",
       "      <td>numeric</td>\n",
       "    </tr>\n",
       "    <tr>\n",
       "      <th>col_num</th>\n",
       "      <td>mixed-integer-float</td>\n",
       "      <td>&lt;class 'float'&gt;</td>\n",
       "      <td>numeric</td>\n",
       "    </tr>\n",
       "    <tr>\n",
       "      <th>col_str</th>\n",
       "      <td>string</td>\n",
       "      <td>&lt;class 'str'&gt;</td>\n",
       "      <td>nominal_str</td>\n",
       "    </tr>\n",
       "    <tr>\n",
       "      <th>col_array</th>\n",
       "      <td>mixed</td>\n",
       "      <td>&lt;class 'str'&gt;</td>\n",
       "      <td>arrays</td>\n",
       "    </tr>\n",
       "  </tbody>\n",
       "</table>\n",
       "</div>"
      ],
      "text/plain": [
       "                  pandas_dtype      numpy_dtype custom_dtype\n",
       "col_bool               boolean  <class 'float'>      numeric\n",
       "col_num    mixed-integer-float  <class 'float'>      numeric\n",
       "col_str                 string    <class 'str'>  nominal_str\n",
       "col_array                mixed    <class 'str'>       arrays"
      ]
     },
     "execution_count": 5,
     "metadata": {},
     "output_type": "execute_result"
    }
   ],
   "source": [
    "schema_train"
   ]
  },
  {
   "cell_type": "markdown",
   "id": "01e206db-2dde-4309-b919-d352c226540b",
   "metadata": {},
   "source": [
    "Serving"
   ]
  },
  {
   "cell_type": "code",
   "execution_count": 6,
   "id": "7f6c7724-9e90-4b56-9b88-3b2fe3753e7d",
   "metadata": {
    "tags": []
   },
   "outputs": [
    {
     "name": "stdout",
     "output_type": "stream",
     "text": [
      "[[ 2.    2.    0.5   5.25]\n",
      " [ 0.    0.    1.    0.5 ]\n",
      " [ 1.    1.    0.   10.  ]]\n"
     ]
    }
   ],
   "source": [
    "X_serve_transformed, schema_serve = preprocess_serve(X_serve, schema_train)\n",
    "print(X_serve_transformed)"
   ]
  },
  {
   "cell_type": "markdown",
   "id": "a022cbd4-0661-4279-99e3-dd7d09e7c976",
   "metadata": {},
   "source": [
    "## 2. Shape mismatch"
   ]
  },
  {
   "cell_type": "code",
   "execution_count": 7,
   "id": "5d8fc0e6-41e7-4d61-ae10-f55fbd9b18cc",
   "metadata": {
    "tags": []
   },
   "outputs": [],
   "source": [
    "X_serve = X_train.copy()\n",
    "X_serve[\"col_extra\"] = [np.nan, \"C\", \"D\"]"
   ]
  },
  {
   "cell_type": "code",
   "execution_count": 8,
   "id": "6e940775-a13e-40e3-a53b-e2a2f85da105",
   "metadata": {
    "tags": []
   },
   "outputs": [
    {
     "name": "stderr",
     "output_type": "stream",
     "text": [
      "Columns ['col_extra'] were dropped because they are not in X.\n"
     ]
    },
    {
     "name": "stdout",
     "output_type": "stream",
     "text": [
      "[[ 2.    2.    0.5   5.25]\n",
      " [ 0.    0.    1.    0.5 ]\n",
      " [ 1.    1.    0.   10.  ]]\n"
     ]
    }
   ],
   "source": [
    "X_serve_transformed, schema_serve = preprocess_serve(X_serve, schema_train)\n",
    "print(X_serve_transformed)"
   ]
  },
  {
   "cell_type": "code",
   "execution_count": 9,
   "id": "9d14466c-2b36-42e6-8f12-3c3da597b77c",
   "metadata": {
    "tags": []
   },
   "outputs": [
    {
     "data": {
      "text/html": [
       "<div>\n",
       "<style scoped>\n",
       "    .dataframe tbody tr th:only-of-type {\n",
       "        vertical-align: middle;\n",
       "    }\n",
       "\n",
       "    .dataframe tbody tr th {\n",
       "        vertical-align: top;\n",
       "    }\n",
       "\n",
       "    .dataframe thead th {\n",
       "        text-align: right;\n",
       "    }\n",
       "</style>\n",
       "<table border=\"1\" class=\"dataframe\">\n",
       "  <thead>\n",
       "    <tr style=\"text-align: right;\">\n",
       "      <th></th>\n",
       "      <th>pandas_dtype</th>\n",
       "      <th>numpy_dtype</th>\n",
       "      <th>custom_dtype</th>\n",
       "    </tr>\n",
       "  </thead>\n",
       "  <tbody>\n",
       "    <tr>\n",
       "      <th>col_bool</th>\n",
       "      <td>boolean</td>\n",
       "      <td>&lt;class 'float'&gt;</td>\n",
       "      <td>numeric</td>\n",
       "    </tr>\n",
       "    <tr>\n",
       "      <th>col_num</th>\n",
       "      <td>mixed-integer-float</td>\n",
       "      <td>&lt;class 'float'&gt;</td>\n",
       "      <td>numeric</td>\n",
       "    </tr>\n",
       "    <tr>\n",
       "      <th>col_str</th>\n",
       "      <td>string</td>\n",
       "      <td>&lt;class 'str'&gt;</td>\n",
       "      <td>nominal_str</td>\n",
       "    </tr>\n",
       "    <tr>\n",
       "      <th>col_array</th>\n",
       "      <td>mixed</td>\n",
       "      <td>&lt;class 'str'&gt;</td>\n",
       "      <td>arrays</td>\n",
       "    </tr>\n",
       "    <tr>\n",
       "      <th>col_extra</th>\n",
       "      <td>string</td>\n",
       "      <td>&lt;class 'str'&gt;</td>\n",
       "      <td>nominal_str</td>\n",
       "    </tr>\n",
       "  </tbody>\n",
       "</table>\n",
       "</div>"
      ],
      "text/plain": [
       "                  pandas_dtype      numpy_dtype custom_dtype\n",
       "col_bool               boolean  <class 'float'>      numeric\n",
       "col_num    mixed-integer-float  <class 'float'>      numeric\n",
       "col_str                 string    <class 'str'>  nominal_str\n",
       "col_array                mixed    <class 'str'>       arrays\n",
       "col_extra               string    <class 'str'>  nominal_str"
      ]
     },
     "execution_count": 9,
     "metadata": {},
     "output_type": "execute_result"
    }
   ],
   "source": [
    "schema_serve"
   ]
  },
  {
   "cell_type": "markdown",
   "id": "a15419d1-0047-4ebd-a89c-1361b410deb0",
   "metadata": {},
   "source": [
    "## 3. Type mismatch"
   ]
  },
  {
   "cell_type": "code",
   "execution_count": 10,
   "id": "06e65ee9-72f8-43cc-92fe-f6aa96b27cc9",
   "metadata": {
    "tags": []
   },
   "outputs": [],
   "source": [
    "X_serve = X_train.copy()\n",
    "X_serve[\"col_bool\"] = [np.nan, \"A\", \"B\"]"
   ]
  },
  {
   "cell_type": "code",
   "execution_count": 11,
   "id": "56c1f9ec-034d-4208-ac59-5eccd8e54704",
   "metadata": {
    "tags": []
   },
   "outputs": [
    {
     "name": "stdout",
     "output_type": "stream",
     "text": [
      "[[ 2.    2.    0.5   5.25]\n",
      " [ 0.    0.    0.5   0.5 ]\n",
      " [ 1.    1.    0.5  10.  ]]\n"
     ]
    },
    {
     "name": "stderr",
     "output_type": "stream",
     "text": [
      "/Users/hongsupshin/SynologyDrive/Sync/Projects/Scipy/data_centric_preprocessing/Notebooks/../data_centric_preprocessing/util.py:165: UserWarning: Numpy dtype mismatches are replaced with nulls.\n",
      "  warnings.warn(\"Numpy dtype mismatches are replaced with nulls.\", UserWarning)\n"
     ]
    }
   ],
   "source": [
    "X_serve_transformed, schema_serve = preprocess_serve(X_serve, schema_train)\n",
    "print(X_serve_transformed)"
   ]
  },
  {
   "cell_type": "code",
   "execution_count": 12,
   "id": "419316fd-45be-499d-91e3-d30b452b36ac",
   "metadata": {
    "tags": []
   },
   "outputs": [
    {
     "data": {
      "text/html": [
       "<div>\n",
       "<style scoped>\n",
       "    .dataframe tbody tr th:only-of-type {\n",
       "        vertical-align: middle;\n",
       "    }\n",
       "\n",
       "    .dataframe tbody tr th {\n",
       "        vertical-align: top;\n",
       "    }\n",
       "\n",
       "    .dataframe thead th {\n",
       "        text-align: right;\n",
       "    }\n",
       "</style>\n",
       "<table border=\"1\" class=\"dataframe\">\n",
       "  <thead>\n",
       "    <tr style=\"text-align: right;\">\n",
       "      <th></th>\n",
       "      <th>pandas_dtype</th>\n",
       "      <th>numpy_dtype</th>\n",
       "      <th>custom_dtype</th>\n",
       "    </tr>\n",
       "  </thead>\n",
       "  <tbody>\n",
       "    <tr>\n",
       "      <th>col_bool</th>\n",
       "      <td>string</td>\n",
       "      <td>&lt;class 'str'&gt;</td>\n",
       "      <td>nominal_str</td>\n",
       "    </tr>\n",
       "    <tr>\n",
       "      <th>col_num</th>\n",
       "      <td>mixed-integer-float</td>\n",
       "      <td>&lt;class 'float'&gt;</td>\n",
       "      <td>numeric</td>\n",
       "    </tr>\n",
       "    <tr>\n",
       "      <th>col_str</th>\n",
       "      <td>string</td>\n",
       "      <td>&lt;class 'str'&gt;</td>\n",
       "      <td>nominal_str</td>\n",
       "    </tr>\n",
       "    <tr>\n",
       "      <th>col_array</th>\n",
       "      <td>mixed</td>\n",
       "      <td>&lt;class 'str'&gt;</td>\n",
       "      <td>arrays</td>\n",
       "    </tr>\n",
       "  </tbody>\n",
       "</table>\n",
       "</div>"
      ],
      "text/plain": [
       "                  pandas_dtype      numpy_dtype custom_dtype\n",
       "col_bool                string    <class 'str'>  nominal_str\n",
       "col_num    mixed-integer-float  <class 'float'>      numeric\n",
       "col_str                 string    <class 'str'>  nominal_str\n",
       "col_array                mixed    <class 'str'>       arrays"
      ]
     },
     "execution_count": 12,
     "metadata": {},
     "output_type": "execute_result"
    }
   ],
   "source": [
    "schema_serve"
   ]
  },
  {
   "cell_type": "markdown",
   "id": "6c6dfa0e-ff68-4353-b2de-bda189d04d9b",
   "metadata": {},
   "source": [
    "## 4. Shape and type mismatches"
   ]
  },
  {
   "cell_type": "code",
   "execution_count": 13,
   "id": "8772ad9f-277b-4d26-8503-da3bff4297c8",
   "metadata": {
    "tags": []
   },
   "outputs": [],
   "source": [
    "X_serve = X_train.copy()\n",
    "X_serve[\"col_extra\"] = [np.nan, \"C\", \"D\"]\n",
    "X_serve[\"col_bool\"] = [np.nan, \"A\", \"B\"]"
   ]
  },
  {
   "cell_type": "code",
   "execution_count": 14,
   "id": "c3818697-6bc9-48a0-929b-05d29840febf",
   "metadata": {
    "tags": []
   },
   "outputs": [
    {
     "name": "stderr",
     "output_type": "stream",
     "text": [
      "Columns ['col_extra'] were dropped because they are not in X.\n"
     ]
    },
    {
     "name": "stdout",
     "output_type": "stream",
     "text": [
      "[[ 2.    2.    0.5   5.25]\n",
      " [ 0.    0.    0.5   0.5 ]\n",
      " [ 1.    1.    0.5  10.  ]]\n"
     ]
    },
    {
     "name": "stderr",
     "output_type": "stream",
     "text": [
      "/Users/hongsupshin/SynologyDrive/Sync/Projects/Scipy/data_centric_preprocessing/Notebooks/../data_centric_preprocessing/util.py:165: UserWarning: Numpy dtype mismatches are replaced with nulls.\n",
      "  warnings.warn(\"Numpy dtype mismatches are replaced with nulls.\", UserWarning)\n"
     ]
    }
   ],
   "source": [
    "X_serve_transformed, schema_serve = preprocess_serve(X_serve, schema_train)\n",
    "print(X_serve_transformed)"
   ]
  },
  {
   "cell_type": "code",
   "execution_count": 15,
   "id": "124bc354-f5b1-44d3-820f-a93f081bed95",
   "metadata": {
    "tags": []
   },
   "outputs": [
    {
     "data": {
      "text/html": [
       "<div>\n",
       "<style scoped>\n",
       "    .dataframe tbody tr th:only-of-type {\n",
       "        vertical-align: middle;\n",
       "    }\n",
       "\n",
       "    .dataframe tbody tr th {\n",
       "        vertical-align: top;\n",
       "    }\n",
       "\n",
       "    .dataframe thead th {\n",
       "        text-align: right;\n",
       "    }\n",
       "</style>\n",
       "<table border=\"1\" class=\"dataframe\">\n",
       "  <thead>\n",
       "    <tr style=\"text-align: right;\">\n",
       "      <th></th>\n",
       "      <th>pandas_dtype</th>\n",
       "      <th>numpy_dtype</th>\n",
       "      <th>custom_dtype</th>\n",
       "    </tr>\n",
       "  </thead>\n",
       "  <tbody>\n",
       "    <tr>\n",
       "      <th>col_bool</th>\n",
       "      <td>string</td>\n",
       "      <td>&lt;class 'str'&gt;</td>\n",
       "      <td>nominal_str</td>\n",
       "    </tr>\n",
       "    <tr>\n",
       "      <th>col_num</th>\n",
       "      <td>mixed-integer-float</td>\n",
       "      <td>&lt;class 'float'&gt;</td>\n",
       "      <td>numeric</td>\n",
       "    </tr>\n",
       "    <tr>\n",
       "      <th>col_str</th>\n",
       "      <td>string</td>\n",
       "      <td>&lt;class 'str'&gt;</td>\n",
       "      <td>nominal_str</td>\n",
       "    </tr>\n",
       "    <tr>\n",
       "      <th>col_array</th>\n",
       "      <td>mixed</td>\n",
       "      <td>&lt;class 'str'&gt;</td>\n",
       "      <td>arrays</td>\n",
       "    </tr>\n",
       "    <tr>\n",
       "      <th>col_extra</th>\n",
       "      <td>string</td>\n",
       "      <td>&lt;class 'str'&gt;</td>\n",
       "      <td>nominal_str</td>\n",
       "    </tr>\n",
       "  </tbody>\n",
       "</table>\n",
       "</div>"
      ],
      "text/plain": [
       "                  pandas_dtype      numpy_dtype custom_dtype\n",
       "col_bool                string    <class 'str'>  nominal_str\n",
       "col_num    mixed-integer-float  <class 'float'>      numeric\n",
       "col_str                 string    <class 'str'>  nominal_str\n",
       "col_array                mixed    <class 'str'>       arrays\n",
       "col_extra               string    <class 'str'>  nominal_str"
      ]
     },
     "execution_count": 15,
     "metadata": {},
     "output_type": "execute_result"
    }
   ],
   "source": [
    "schema_serve"
   ]
  },
  {
   "cell_type": "code",
   "execution_count": null,
   "id": "d04b3a33-e315-4d53-bdae-73bae7defba9",
   "metadata": {},
   "outputs": [],
   "source": []
  }
 ],
 "metadata": {
  "kernelspec": {
   "display_name": "Python 3 (ipykernel)",
   "language": "python",
   "name": "python3"
  },
  "language_info": {
   "codemirror_mode": {
    "name": "ipython",
    "version": 3
   },
   "file_extension": ".py",
   "mimetype": "text/x-python",
   "name": "python",
   "nbconvert_exporter": "python",
   "pygments_lexer": "ipython3",
   "version": "3.9.16"
  }
 },
 "nbformat": 4,
 "nbformat_minor": 5
}
