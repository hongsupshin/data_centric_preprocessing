{
 "cells": [
  {
   "cell_type": "markdown",
   "id": "39ee0500-3c7d-4860-a871-4f73b5bcbe6b",
   "metadata": {},
   "source": [
    "# Data-centric ML pipeline walkthrough"
   ]
  },
  {
   "cell_type": "code",
   "execution_count": 1,
   "id": "d8934d0a-98de-46e2-85fb-42430408fdc7",
   "metadata": {
    "tags": []
   },
   "outputs": [],
   "source": [
    "import pandas as pd\n",
    "import numpy as np\n",
    "import os\n",
    "import sys\n",
    "import joblib\n",
    "import time\n",
    "\n",
    "sys.path.append('../')\n",
    "\n",
    "from data_centric_preprocessing.create_schema import *\n",
    "from data_centric_preprocessing.data_schema import *\n",
    "from data_centric_preprocessing.util import *\n",
    "from data_centric_preprocessing.config import *"
   ]
  },
  {
   "cell_type": "markdown",
   "id": "260978be-dc33-4eba-8b37-b686f16c301f",
   "metadata": {},
   "source": [
    "In hardware verification, all columns of raw data often have object types, and thus we need to correctly infer data types. Besides, the raw data are often heterogeneous and feature meanings are obscure, which makes monitoring and tracking true type inference important. Inferring correct dtypes also helps applying different preprocessing methods for each dtype. Below is a toy example of raw data with mixed data types."
   ]
  },
  {
   "cell_type": "code",
   "execution_count": 2,
   "id": "7c9ad1e7-2989-4ba2-b9db-60119140f6e5",
   "metadata": {
    "tags": []
   },
   "outputs": [
    {
     "data": {
      "text/html": [
       "<div>\n",
       "<style scoped>\n",
       "    .dataframe tbody tr th:only-of-type {\n",
       "        vertical-align: middle;\n",
       "    }\n",
       "\n",
       "    .dataframe tbody tr th {\n",
       "        vertical-align: top;\n",
       "    }\n",
       "\n",
       "    .dataframe thead th {\n",
       "        text-align: right;\n",
       "    }\n",
       "</style>\n",
       "<table border=\"1\" class=\"dataframe\">\n",
       "  <thead>\n",
       "    <tr style=\"text-align: right;\">\n",
       "      <th></th>\n",
       "      <th>col_bool</th>\n",
       "      <th>col_num</th>\n",
       "      <th>col_str</th>\n",
       "      <th>col_array</th>\n",
       "      <th>col_PATTERN1</th>\n",
       "      <th>col_null</th>\n",
       "      <th>col_invariant</th>\n",
       "      <th>col_invariant_missing</th>\n",
       "    </tr>\n",
       "  </thead>\n",
       "  <tbody>\n",
       "    <tr>\n",
       "      <th>0</th>\n",
       "      <td>NaN</td>\n",
       "      <td>NaN</td>\n",
       "      <td>NaN</td>\n",
       "      <td>NaN</td>\n",
       "      <td>1</td>\n",
       "      <td>NaN</td>\n",
       "      <td>1</td>\n",
       "      <td>NaN</td>\n",
       "    </tr>\n",
       "    <tr>\n",
       "      <th>1</th>\n",
       "      <td>True</td>\n",
       "      <td>0.5</td>\n",
       "      <td>A</td>\n",
       "      <td>[A]</td>\n",
       "      <td>2</td>\n",
       "      <td>NaN</td>\n",
       "      <td>1</td>\n",
       "      <td>0</td>\n",
       "    </tr>\n",
       "    <tr>\n",
       "      <th>2</th>\n",
       "      <td>False</td>\n",
       "      <td>10</td>\n",
       "      <td>B</td>\n",
       "      <td>[B]</td>\n",
       "      <td>3</td>\n",
       "      <td>NaN</td>\n",
       "      <td>1</td>\n",
       "      <td>0</td>\n",
       "    </tr>\n",
       "  </tbody>\n",
       "</table>\n",
       "</div>"
      ],
      "text/plain": [
       "  col_bool col_num col_str col_array col_PATTERN1 col_null col_invariant  \\\n",
       "0      NaN     NaN     NaN       NaN            1      NaN             1   \n",
       "1     True     0.5       A       [A]            2      NaN             1   \n",
       "2    False      10       B       [B]            3      NaN             1   \n",
       "\n",
       "  col_invariant_missing  \n",
       "0                   NaN  \n",
       "1                     0  \n",
       "2                     0  "
      ]
     },
     "execution_count": 2,
     "metadata": {},
     "output_type": "execute_result"
    }
   ],
   "source": [
    "X_train = pd.DataFrame(\n",
    "    {\n",
    "        \"col_bool\": [np.nan, True, False],\n",
    "        \"col_num\": [np.nan, 0.5, 10],\n",
    "        \"col_str\": [np.nan, \"A\", \"B\"],\n",
    "        \"col_array\": [np.nan, [\"A\"], [\"B\"]],\n",
    "        \"col_PATTERN1\": [1, 2, 3],\n",
    "        \"col_null\": [np.nan, np.nan, np.nan],\n",
    "        \"col_invariant\": [1, 1, 1],\n",
    "        \"col_invariant_missing\": [np.nan, 0, 0],\n",
    "    }, \n",
    "    dtype=object\n",
    ")\n",
    "X_train"
   ]
  },
  {
   "cell_type": "markdown",
   "id": "1b591be7-2118-46be-b456-7c887344f17a",
   "metadata": {},
   "source": [
    "This walkthrough provides an overview of a training-/serving-aware data prepcoessing pipeline for raw data with following challenges:\n",
    "- Schemas are absent and feature meanings are obscure.\n",
    "- Data are highly heterogenous and have high dimentionality.\n",
    "- During model serving, data type and shape are likely to have changed compared to model training."
   ]
  },
  {
   "cell_type": "markdown",
   "id": "14905a84-6f9f-4959-bd6a-131468916978",
   "metadata": {},
   "source": [
    "## Model training stage"
   ]
  },
  {
   "cell_type": "markdown",
   "id": "bf3b956a-fcc9-48c1-b257-edb6265d4646",
   "metadata": {
    "tags": []
   },
   "source": [
    "### Step 1. Infer a schema from a training data"
   ]
  },
  {
   "cell_type": "markdown",
   "id": "3dd0c031-8ab2-4a77-9cf2-ab175f6ef6c2",
   "metadata": {},
   "source": [
    "(We first drop non-informative columns (features) from the raw data (seed, invariant, all-missing))"
   ]
  },
  {
   "cell_type": "code",
   "execution_count": 3,
   "id": "5f0114e5-9a56-4f22-bba9-f03011068be8",
   "metadata": {
    "tags": []
   },
   "outputs": [
    {
     "data": {
      "text/html": [
       "<div>\n",
       "<style scoped>\n",
       "    .dataframe tbody tr th:only-of-type {\n",
       "        vertical-align: middle;\n",
       "    }\n",
       "\n",
       "    .dataframe tbody tr th {\n",
       "        vertical-align: top;\n",
       "    }\n",
       "\n",
       "    .dataframe thead th {\n",
       "        text-align: right;\n",
       "    }\n",
       "</style>\n",
       "<table border=\"1\" class=\"dataframe\">\n",
       "  <thead>\n",
       "    <tr style=\"text-align: right;\">\n",
       "      <th></th>\n",
       "      <th>col_bool</th>\n",
       "      <th>col_num</th>\n",
       "      <th>col_str</th>\n",
       "      <th>col_array</th>\n",
       "      <th>col_PATTERN1</th>\n",
       "      <th>col_invariant_missing</th>\n",
       "    </tr>\n",
       "  </thead>\n",
       "  <tbody>\n",
       "    <tr>\n",
       "      <th>0</th>\n",
       "      <td>NaN</td>\n",
       "      <td>NaN</td>\n",
       "      <td>NaN</td>\n",
       "      <td>NaN</td>\n",
       "      <td>1</td>\n",
       "      <td>NaN</td>\n",
       "    </tr>\n",
       "    <tr>\n",
       "      <th>1</th>\n",
       "      <td>True</td>\n",
       "      <td>0.5</td>\n",
       "      <td>A</td>\n",
       "      <td>[A]</td>\n",
       "      <td>2</td>\n",
       "      <td>0</td>\n",
       "    </tr>\n",
       "    <tr>\n",
       "      <th>2</th>\n",
       "      <td>False</td>\n",
       "      <td>10</td>\n",
       "      <td>B</td>\n",
       "      <td>[B]</td>\n",
       "      <td>3</td>\n",
       "      <td>0</td>\n",
       "    </tr>\n",
       "  </tbody>\n",
       "</table>\n",
       "</div>"
      ],
      "text/plain": [
       "  col_bool col_num col_str col_array col_PATTERN1 col_invariant_missing\n",
       "0      NaN     NaN     NaN       NaN            1                   NaN\n",
       "1     True     0.5       A       [A]            2                     0\n",
       "2    False      10       B       [B]            3                     0"
      ]
     },
     "execution_count": 3,
     "metadata": {},
     "output_type": "execute_result"
    }
   ],
   "source": [
    "X_train = drop_non_informative_features(X_train, seed_patterns=[\"SEED$\"])\n",
    "X_train"
   ]
  },
  {
   "cell_type": "markdown",
   "id": "e6de2608-374a-476d-9b55-5b4e4157a9ae",
   "metadata": {},
   "source": [
    "We need to infer correct data types from the raw data because they are heterogenous but all labeled as `object` dtypes."
   ]
  },
  {
   "cell_type": "code",
   "execution_count": 4,
   "id": "29d9a8ba-edc6-4a5c-9d77-efed15808ec1",
   "metadata": {
    "tags": []
   },
   "outputs": [
    {
     "data": {
      "text/plain": [
       "col_bool                 object\n",
       "col_num                  object\n",
       "col_str                  object\n",
       "col_array                object\n",
       "col_PATTERN1             object\n",
       "col_invariant_missing    object\n",
       "dtype: object"
      ]
     },
     "execution_count": 4,
     "metadata": {},
     "output_type": "execute_result"
    }
   ],
   "source": [
    "X_train.dtypes"
   ]
  },
  {
   "cell_type": "markdown",
   "id": "d88c0984-359f-4fd8-8ab6-0d115e735612",
   "metadata": {},
   "source": [
    "I choose `pandas.api.types.infer_dtype` because of its type granularity and capability to ignore nulls."
   ]
  },
  {
   "cell_type": "code",
   "execution_count": 5,
   "id": "479c1bc8-e6b2-4ed8-8d72-044758e035dc",
   "metadata": {
    "tags": []
   },
   "outputs": [
    {
     "data": {
      "text/plain": [
       "col_bool                             boolean\n",
       "col_num                  mixed-integer-float\n",
       "col_str                               string\n",
       "col_array                              mixed\n",
       "col_PATTERN1                         integer\n",
       "col_invariant_missing                integer\n",
       "dtype: object"
      ]
     },
     "execution_count": 5,
     "metadata": {},
     "output_type": "execute_result"
    }
   ],
   "source": [
    "inferred_dtype = X_train.apply(lambda x:pd.api.types.infer_dtype(x, skipna=True))\n",
    "inferred_dtype"
   ]
  },
  {
   "cell_type": "markdown",
   "id": "f9747ce1-3c63-4ea4-8280-4d68ac41d8c7",
   "metadata": {},
   "source": [
    "As you can see, the method can ignore na values and correctly identify types of remaining elements in each column. However, the problem is that the returned inferred values are string not python type:"
   ]
  },
  {
   "cell_type": "code",
   "execution_count": 6,
   "id": "a983f436-2d27-448a-bbd3-518bc7b94eef",
   "metadata": {
    "tags": []
   },
   "outputs": [
    {
     "name": "stdout",
     "output_type": "stream",
     "text": [
      "['boolean' 'mixed-integer-float' 'string' 'mixed' 'integer' 'integer']\n"
     ]
    }
   ],
   "source": [
    "print(inferred_dtype.values)"
   ]
  },
  {
   "cell_type": "markdown",
   "id": "4794b5b3-ebe4-4dab-9de3-56c07784264a",
   "metadata": {},
   "source": [
    "Because the method returns string values (e.g., `\"boolean\"` not type `bool`), I need a dictionary to match these values to numpy dtypes for correcting dtypes."
   ]
  },
  {
   "cell_type": "code",
   "execution_count": 7,
   "id": "a5b27ca3-34e5-4b59-bcf6-4b135113988e",
   "metadata": {
    "tags": []
   },
   "outputs": [
    {
     "data": {
      "text/plain": [
       "{'boolean': float,\n",
       " 'integer': float,\n",
       " 'string': str,\n",
       " 'floating': float,\n",
       " 'mixed-integer-float': float,\n",
       " 'mixed-integer': float,\n",
       " 'mixed': str}"
      ]
     },
     "execution_count": 7,
     "metadata": {},
     "output_type": "execute_result"
    }
   ],
   "source": [
    "numpy_dtype_map"
   ]
  },
  {
   "cell_type": "markdown",
   "id": "282caa8f-d249-4f66-958a-32a45d3c7e66",
   "metadata": {},
   "source": [
    "To implement the true meaning of the columns, we need a custom dtype map. The values of this map become the foundtation of column transformers in the preprocessing pipeline."
   ]
  },
  {
   "cell_type": "code",
   "execution_count": 8,
   "id": "cade1e92-0bd3-4f30-ad79-e8e4a24824c7",
   "metadata": {
    "tags": []
   },
   "outputs": [
    {
     "data": {
      "text/plain": [
       "{'boolean': 'numeric',\n",
       " 'integer': 'numeric',\n",
       " 'string': 'nominal_str',\n",
       " 'floating': 'numeric',\n",
       " 'mixed-integer-float': 'numeric',\n",
       " 'mixed-integer': 'numeric',\n",
       " 'mixed': 'arrays'}"
      ]
     },
     "execution_count": 8,
     "metadata": {},
     "output_type": "execute_result"
    }
   ],
   "source": [
    "custom_dtype_map"
   ]
  },
  {
   "cell_type": "markdown",
   "id": "a3f4c53d-ae38-4e7d-9931-1a3d709c5f67",
   "metadata": {},
   "source": [
    "`build_schema` function creates a schema, a collection of column names and their inferred dtypes. This function needs the above-mentioned dtype maps, but also `nominal_num_patterns` and `catch_invariant_with_missing` arguments.\n",
    "\n",
    "In the raw data, we have numeric columns that do not have ordinal nature such as seeds or hash values. We call them as nominal-numeric columns. A bottom-up approach wouldn't be useful to identify these columns because we can't distinguish them from regular numeric columns. Luckily, we can identify them by their name patterns. That's where `nominal_num_patterns` comes in."
   ]
  },
  {
   "cell_type": "code",
   "execution_count": 9,
   "id": "c1c651fa-1e0c-4e7a-ba47-fc8cb961d069",
   "metadata": {
    "tags": []
   },
   "outputs": [
    {
     "data": {
      "text/plain": [
       "['PATTERN1$', 'PATTERN2$']"
      ]
     },
     "execution_count": 9,
     "metadata": {},
     "output_type": "execute_result"
    }
   ],
   "source": [
    "nominal_num_patterns"
   ]
  },
  {
   "cell_type": "markdown",
   "id": "d53b5a4f-1da4-41cd-98fd-f0558aca0226",
   "metadata": {},
   "source": [
    "Because our data change their shapes (number of columns) over time, when we create a training dataset over multiple time periods, we end up having many missing data because some columns simply did not exist in a certain time period. For instance, on Day 1, we have columns A and B, but on Day 2, we have columns A, B, and C. When we create a batch of traning data from Days 1 and 2, then Day 1 data will have missing data for column C."
   ]
  },
  {
   "cell_type": "markdown",
   "id": "0d295d65-9fa1-4b1f-9f70-f801e3e46544",
   "metadata": {},
   "source": [
    "Among the columns like these (i.e., sparsity due to partial presence), when a column has at least one nan, (e.g., `[0, 0, 0, nan, nan]`), and only two values remain after removing dups from it, (e.g., `[0, nan]`), these two values are nan & the single invariant value. A column like this is referred to as \"invariant with missing\". We use sklearn's `MissingIndicator` to encode these columns to encode the presence of missing value. To identify these columns, we can set `catch_invariant_with_missing=True`."
   ]
  },
  {
   "cell_type": "code",
   "execution_count": 10,
   "id": "4e045934-5b9e-40c1-92b0-dc4b609351e7",
   "metadata": {
    "tags": []
   },
   "outputs": [],
   "source": [
    "schema_train = build_schema(\n",
    "        X_train,\n",
    "        numpy_dtype_map=numpy_dtype_map,\n",
    "        custom_dtype_map=custom_dtype_map,\n",
    "        nominal_num_patterns=nominal_num_patterns,\n",
    "        catch_invariant_with_missing=True\n",
    "    )"
   ]
  },
  {
   "cell_type": "code",
   "execution_count": 11,
   "id": "6ebd0d13-e22c-46d6-8d71-3bb542e5d1c1",
   "metadata": {
    "tags": []
   },
   "outputs": [
    {
     "data": {
      "text/html": [
       "<div>\n",
       "<style scoped>\n",
       "    .dataframe tbody tr th:only-of-type {\n",
       "        vertical-align: middle;\n",
       "    }\n",
       "\n",
       "    .dataframe tbody tr th {\n",
       "        vertical-align: top;\n",
       "    }\n",
       "\n",
       "    .dataframe thead th {\n",
       "        text-align: right;\n",
       "    }\n",
       "</style>\n",
       "<table border=\"1\" class=\"dataframe\">\n",
       "  <thead>\n",
       "    <tr style=\"text-align: right;\">\n",
       "      <th></th>\n",
       "      <th>pandas_dtype</th>\n",
       "      <th>numpy_dtype</th>\n",
       "      <th>custom_dtype</th>\n",
       "    </tr>\n",
       "  </thead>\n",
       "  <tbody>\n",
       "    <tr>\n",
       "      <th>col_bool</th>\n",
       "      <td>boolean</td>\n",
       "      <td>&lt;class 'float'&gt;</td>\n",
       "      <td>numeric</td>\n",
       "    </tr>\n",
       "    <tr>\n",
       "      <th>col_num</th>\n",
       "      <td>mixed-integer-float</td>\n",
       "      <td>&lt;class 'float'&gt;</td>\n",
       "      <td>numeric</td>\n",
       "    </tr>\n",
       "    <tr>\n",
       "      <th>col_str</th>\n",
       "      <td>string</td>\n",
       "      <td>&lt;class 'str'&gt;</td>\n",
       "      <td>nominal_str</td>\n",
       "    </tr>\n",
       "    <tr>\n",
       "      <th>col_array</th>\n",
       "      <td>mixed</td>\n",
       "      <td>&lt;class 'str'&gt;</td>\n",
       "      <td>arrays</td>\n",
       "    </tr>\n",
       "    <tr>\n",
       "      <th>col_PATTERN1</th>\n",
       "      <td>integer</td>\n",
       "      <td>&lt;class 'float'&gt;</td>\n",
       "      <td>nominal_num</td>\n",
       "    </tr>\n",
       "    <tr>\n",
       "      <th>col_invariant_missing</th>\n",
       "      <td>integer</td>\n",
       "      <td>&lt;class 'float'&gt;</td>\n",
       "      <td>invariant_with_missing</td>\n",
       "    </tr>\n",
       "  </tbody>\n",
       "</table>\n",
       "</div>"
      ],
      "text/plain": [
       "                              pandas_dtype      numpy_dtype  \\\n",
       "col_bool                           boolean  <class 'float'>   \n",
       "col_num                mixed-integer-float  <class 'float'>   \n",
       "col_str                             string    <class 'str'>   \n",
       "col_array                            mixed    <class 'str'>   \n",
       "col_PATTERN1                       integer  <class 'float'>   \n",
       "col_invariant_missing              integer  <class 'float'>   \n",
       "\n",
       "                                 custom_dtype  \n",
       "col_bool                              numeric  \n",
       "col_num                               numeric  \n",
       "col_str                           nominal_str  \n",
       "col_array                              arrays  \n",
       "col_PATTERN1                      nominal_num  \n",
       "col_invariant_missing  invariant_with_missing  "
      ]
     },
     "execution_count": 11,
     "metadata": {},
     "output_type": "execute_result"
    }
   ],
   "source": [
    "schema_train"
   ]
  },
  {
   "cell_type": "markdown",
   "id": "5af863a8-c250-4a0f-8571-40a4684a22a1",
   "metadata": {},
   "source": [
    "Once we inferred the numpy dtypes of the columns, we can cast those to the raw data to correct their data types."
   ]
  },
  {
   "cell_type": "code",
   "execution_count": 12,
   "id": "c18d422d-6e27-4464-8043-8213bfa88efb",
   "metadata": {
    "tags": []
   },
   "outputs": [
    {
     "data": {
      "text/plain": [
       "col_bool                 float64\n",
       "col_num                  float64\n",
       "col_str                   object\n",
       "col_array                 object\n",
       "col_PATTERN1              object\n",
       "col_invariant_missing    float64\n",
       "dtype: object"
      ]
     },
     "execution_count": 12,
     "metadata": {},
     "output_type": "execute_result"
    }
   ],
   "source": [
    "X_train = cast_numpy_dtype(X_train, schema_train)\n",
    "X_train.dtypes"
   ]
  },
  {
   "cell_type": "markdown",
   "id": "e8721db7-b11e-4232-9d33-561834435a13",
   "metadata": {},
   "source": [
    "Note that `col_PATTERN1`'s dtype is object (not float) because we are treating them as nominal (categorical)."
   ]
  },
  {
   "cell_type": "markdown",
   "id": "265831fb-b400-43f0-829d-5702bf4ebd96",
   "metadata": {},
   "source": [
    "### Step 2. Build a preprocessor based on the schema"
   ]
  },
  {
   "cell_type": "markdown",
   "id": "255da268-5658-4232-a851-595740eaa3b7",
   "metadata": {},
   "source": [
    "A key feature of this pipeline is that we can use the schema, which is inferred from raw data, to build a preprocessor. We use `build_preprocessor` function here. It checks existing custom dtypes of the data and fetches corresponding methods for each custom dtype to build a collection of column transformers:\n"
   ]
  },
  {
   "cell_type": "markdown",
   "id": "36729360-012d-4115-b852-8106c363404c",
   "metadata": {},
   "source": [
    "```python\n",
    "known_custom_dtypes = set(schema_training[\"custom_dtype\"])\n",
    "transformers = []\n",
    "    for custom_dtype in sorted(known_custom_dtypes):\n",
    "        cols = schema_training[\n",
    "            schema_training[\"custom_dtype\"] == custom_dtype\n",
    "        ].index.values\n",
    "        transformer = (custom_dtype, transformer_map[custom_dtype], cols)\n",
    "        transformers.append(transformer)\n",
    "    column_transformers = ColumnTransformer(transformers)\n",
    "    preprocessor = Pipeline(preprocessor_steps)\n",
    "    preprocessor.set_params(column_transformers=column_transformers)\n",
    "```"
   ]
  },
  {
   "cell_type": "markdown",
   "id": "6c9972fa-9208-4663-a55e-03f8fcb89482",
   "metadata": {},
   "source": [
    "The corresponding methods (data preprocessing methods) are stored in `transformer_map`, which is a dictionary where each key is the custom dtype name and its value is a sklearn pipeline object with a stack of various preprocessing methods."
   ]
  },
  {
   "cell_type": "code",
   "execution_count": 13,
   "id": "c5cfaa7b-7a70-4c71-bdb6-2ca484af7355",
   "metadata": {
    "tags": []
   },
   "outputs": [
    {
     "data": {
      "text/plain": [
       "{'invariant_with_missing': Pipeline(steps=[('imputer', MissingIndicator(error_on_new=False))]),\n",
       " 'numeric': Pipeline(steps=[('imputer', SimpleImputer(strategy='median'))]),\n",
       " 'arrays': Pipeline(steps=[('imputer',\n",
       "                  SimpleImputer(fill_value='missing', strategy='constant')),\n",
       "                 ('encoder', OrdinalEncoder())]),\n",
       " 'nominal_str': Pipeline(steps=[('imputer',\n",
       "                  SimpleImputer(fill_value='missing', strategy='constant')),\n",
       "                 ('encoder', OrdinalEncoder())]),\n",
       " 'nominal_num': Pipeline(steps=[('imputer',\n",
       "                  SimpleImputer(fill_value='missing', strategy='constant')),\n",
       "                 ('encoder', OrdinalEncoder())])}"
      ]
     },
     "execution_count": 13,
     "metadata": {},
     "output_type": "execute_result"
    }
   ],
   "source": [
    "transformer_map"
   ]
  },
  {
   "cell_type": "markdown",
   "id": "4a6f9106-bb9a-4a85-aa79-3dfee078ea32",
   "metadata": {},
   "source": [
    "For instance, as above-mentioned, for the `\"invariant_with_missing\"` columns, we apply `MissingIndicator`:"
   ]
  },
  {
   "cell_type": "code",
   "execution_count": 14,
   "id": "49f9b6e5-6470-41e0-a517-285256b8acbb",
   "metadata": {
    "tags": []
   },
   "outputs": [
    {
     "name": "stdout",
     "output_type": "stream",
     "text": [
      "Pipeline(steps=[('imputer', MissingIndicator(error_on_new=False))])\n"
     ]
    }
   ],
   "source": [
    "print(transformer_map['invariant_with_missing'])"
   ]
  },
  {
   "cell_type": "markdown",
   "id": "c58502a2-fab2-466b-a342-88013caabe6e",
   "metadata": {},
   "source": [
    "Even though the column transformer is a key part of the preprocessor, we might still need other preprocessors if we want to apply them to all columns. This information can be added to `preprocessor_steps`:"
   ]
  },
  {
   "cell_type": "code",
   "execution_count": 15,
   "id": "afe3ebd3-56bf-47a9-8c30-b8ea0362e2d0",
   "metadata": {
    "tags": []
   },
   "outputs": [
    {
     "data": {
      "text/plain": [
       "[('column_transformers', None), ('feature_selection', VarianceThreshold())]"
      ]
     },
     "execution_count": 15,
     "metadata": {},
     "output_type": "execute_result"
    }
   ],
   "source": [
    "preprocessor_steps"
   ]
  },
  {
   "cell_type": "markdown",
   "id": "d2676036-a1f5-444f-8c6f-729529b7e583",
   "metadata": {},
   "source": [
    "Thus, `build_preprocessor` function requires both `transformer_map` and `preprocessor_steps`:"
   ]
  },
  {
   "cell_type": "code",
   "execution_count": 16,
   "id": "b371466c-fadc-4921-9f87-2f62f5035ad5",
   "metadata": {
    "tags": []
   },
   "outputs": [
    {
     "data": {
      "text/html": [
       "<style>#sk-container-id-1 {color: black;background-color: white;}#sk-container-id-1 pre{padding: 0;}#sk-container-id-1 div.sk-toggleable {background-color: white;}#sk-container-id-1 label.sk-toggleable__label {cursor: pointer;display: block;width: 100%;margin-bottom: 0;padding: 0.3em;box-sizing: border-box;text-align: center;}#sk-container-id-1 label.sk-toggleable__label-arrow:before {content: \"▸\";float: left;margin-right: 0.25em;color: #696969;}#sk-container-id-1 label.sk-toggleable__label-arrow:hover:before {color: black;}#sk-container-id-1 div.sk-estimator:hover label.sk-toggleable__label-arrow:before {color: black;}#sk-container-id-1 div.sk-toggleable__content {max-height: 0;max-width: 0;overflow: hidden;text-align: left;background-color: #f0f8ff;}#sk-container-id-1 div.sk-toggleable__content pre {margin: 0.2em;color: black;border-radius: 0.25em;background-color: #f0f8ff;}#sk-container-id-1 input.sk-toggleable__control:checked~div.sk-toggleable__content {max-height: 200px;max-width: 100%;overflow: auto;}#sk-container-id-1 input.sk-toggleable__control:checked~label.sk-toggleable__label-arrow:before {content: \"▾\";}#sk-container-id-1 div.sk-estimator input.sk-toggleable__control:checked~label.sk-toggleable__label {background-color: #d4ebff;}#sk-container-id-1 div.sk-label input.sk-toggleable__control:checked~label.sk-toggleable__label {background-color: #d4ebff;}#sk-container-id-1 input.sk-hidden--visually {border: 0;clip: rect(1px 1px 1px 1px);clip: rect(1px, 1px, 1px, 1px);height: 1px;margin: -1px;overflow: hidden;padding: 0;position: absolute;width: 1px;}#sk-container-id-1 div.sk-estimator {font-family: monospace;background-color: #f0f8ff;border: 1px dotted black;border-radius: 0.25em;box-sizing: border-box;margin-bottom: 0.5em;}#sk-container-id-1 div.sk-estimator:hover {background-color: #d4ebff;}#sk-container-id-1 div.sk-parallel-item::after {content: \"\";width: 100%;border-bottom: 1px solid gray;flex-grow: 1;}#sk-container-id-1 div.sk-label:hover label.sk-toggleable__label {background-color: #d4ebff;}#sk-container-id-1 div.sk-serial::before {content: \"\";position: absolute;border-left: 1px solid gray;box-sizing: border-box;top: 0;bottom: 0;left: 50%;z-index: 0;}#sk-container-id-1 div.sk-serial {display: flex;flex-direction: column;align-items: center;background-color: white;padding-right: 0.2em;padding-left: 0.2em;position: relative;}#sk-container-id-1 div.sk-item {position: relative;z-index: 1;}#sk-container-id-1 div.sk-parallel {display: flex;align-items: stretch;justify-content: center;background-color: white;position: relative;}#sk-container-id-1 div.sk-item::before, #sk-container-id-1 div.sk-parallel-item::before {content: \"\";position: absolute;border-left: 1px solid gray;box-sizing: border-box;top: 0;bottom: 0;left: 50%;z-index: -1;}#sk-container-id-1 div.sk-parallel-item {display: flex;flex-direction: column;z-index: 1;position: relative;background-color: white;}#sk-container-id-1 div.sk-parallel-item:first-child::after {align-self: flex-end;width: 50%;}#sk-container-id-1 div.sk-parallel-item:last-child::after {align-self: flex-start;width: 50%;}#sk-container-id-1 div.sk-parallel-item:only-child::after {width: 0;}#sk-container-id-1 div.sk-dashed-wrapped {border: 1px dashed gray;margin: 0 0.4em 0.5em 0.4em;box-sizing: border-box;padding-bottom: 0.4em;background-color: white;}#sk-container-id-1 div.sk-label label {font-family: monospace;font-weight: bold;display: inline-block;line-height: 1.2em;}#sk-container-id-1 div.sk-label-container {text-align: center;}#sk-container-id-1 div.sk-container {/* jupyter's `normalize.less` sets `[hidden] { display: none; }` but bootstrap.min.css set `[hidden] { display: none !important; }` so we also need the `!important` here to be able to override the default hidden behavior on the sphinx rendered scikit-learn.org. See: https://github.com/scikit-learn/scikit-learn/issues/21755 */display: inline-block !important;position: relative;}#sk-container-id-1 div.sk-text-repr-fallback {display: none;}</style><div id=\"sk-container-id-1\" class=\"sk-top-container\"><div class=\"sk-text-repr-fallback\"><pre>Pipeline(steps=[(&#x27;column_transformers&#x27;,\n",
       "                 ColumnTransformer(transformers=[(&#x27;arrays&#x27;,\n",
       "                                                  Pipeline(steps=[(&#x27;imputer&#x27;,\n",
       "                                                                   SimpleImputer(fill_value=&#x27;missing&#x27;,\n",
       "                                                                                 strategy=&#x27;constant&#x27;)),\n",
       "                                                                  (&#x27;encoder&#x27;,\n",
       "                                                                   OrdinalEncoder())]),\n",
       "                                                  array([&#x27;col_array&#x27;], dtype=object)),\n",
       "                                                 (&#x27;invariant_with_missing&#x27;,\n",
       "                                                  Pipeline(steps=[(&#x27;imputer&#x27;,\n",
       "                                                                   MissingIndicator(error_on_new=False))]),\n",
       "                                                  array([&#x27;col_invariant_miss...\n",
       "                                                  array([&#x27;col_PATTERN1&#x27;], dtype=object)),\n",
       "                                                 (&#x27;nominal_str&#x27;,\n",
       "                                                  Pipeline(steps=[(&#x27;imputer&#x27;,\n",
       "                                                                   SimpleImputer(fill_value=&#x27;missing&#x27;,\n",
       "                                                                                 strategy=&#x27;constant&#x27;)),\n",
       "                                                                  (&#x27;encoder&#x27;,\n",
       "                                                                   OrdinalEncoder())]),\n",
       "                                                  array([&#x27;col_str&#x27;], dtype=object)),\n",
       "                                                 (&#x27;numeric&#x27;,\n",
       "                                                  Pipeline(steps=[(&#x27;imputer&#x27;,\n",
       "                                                                   SimpleImputer(strategy=&#x27;median&#x27;))]),\n",
       "                                                  array([&#x27;col_bool&#x27;, &#x27;col_num&#x27;], dtype=object))])),\n",
       "                (&#x27;feature_selection&#x27;, VarianceThreshold())])</pre><b>In a Jupyter environment, please rerun this cell to show the HTML representation or trust the notebook. <br />On GitHub, the HTML representation is unable to render, please try loading this page with nbviewer.org.</b></div><div class=\"sk-container\" hidden><div class=\"sk-item sk-dashed-wrapped\"><div class=\"sk-label-container\"><div class=\"sk-label sk-toggleable\"><input class=\"sk-toggleable__control sk-hidden--visually\" id=\"sk-estimator-id-1\" type=\"checkbox\" ><label for=\"sk-estimator-id-1\" class=\"sk-toggleable__label sk-toggleable__label-arrow\">Pipeline</label><div class=\"sk-toggleable__content\"><pre>Pipeline(steps=[(&#x27;column_transformers&#x27;,\n",
       "                 ColumnTransformer(transformers=[(&#x27;arrays&#x27;,\n",
       "                                                  Pipeline(steps=[(&#x27;imputer&#x27;,\n",
       "                                                                   SimpleImputer(fill_value=&#x27;missing&#x27;,\n",
       "                                                                                 strategy=&#x27;constant&#x27;)),\n",
       "                                                                  (&#x27;encoder&#x27;,\n",
       "                                                                   OrdinalEncoder())]),\n",
       "                                                  array([&#x27;col_array&#x27;], dtype=object)),\n",
       "                                                 (&#x27;invariant_with_missing&#x27;,\n",
       "                                                  Pipeline(steps=[(&#x27;imputer&#x27;,\n",
       "                                                                   MissingIndicator(error_on_new=False))]),\n",
       "                                                  array([&#x27;col_invariant_miss...\n",
       "                                                  array([&#x27;col_PATTERN1&#x27;], dtype=object)),\n",
       "                                                 (&#x27;nominal_str&#x27;,\n",
       "                                                  Pipeline(steps=[(&#x27;imputer&#x27;,\n",
       "                                                                   SimpleImputer(fill_value=&#x27;missing&#x27;,\n",
       "                                                                                 strategy=&#x27;constant&#x27;)),\n",
       "                                                                  (&#x27;encoder&#x27;,\n",
       "                                                                   OrdinalEncoder())]),\n",
       "                                                  array([&#x27;col_str&#x27;], dtype=object)),\n",
       "                                                 (&#x27;numeric&#x27;,\n",
       "                                                  Pipeline(steps=[(&#x27;imputer&#x27;,\n",
       "                                                                   SimpleImputer(strategy=&#x27;median&#x27;))]),\n",
       "                                                  array([&#x27;col_bool&#x27;, &#x27;col_num&#x27;], dtype=object))])),\n",
       "                (&#x27;feature_selection&#x27;, VarianceThreshold())])</pre></div></div></div><div class=\"sk-serial\"><div class=\"sk-item sk-dashed-wrapped\"><div class=\"sk-label-container\"><div class=\"sk-label sk-toggleable\"><input class=\"sk-toggleable__control sk-hidden--visually\" id=\"sk-estimator-id-2\" type=\"checkbox\" ><label for=\"sk-estimator-id-2\" class=\"sk-toggleable__label sk-toggleable__label-arrow\">column_transformers: ColumnTransformer</label><div class=\"sk-toggleable__content\"><pre>ColumnTransformer(transformers=[(&#x27;arrays&#x27;,\n",
       "                                 Pipeline(steps=[(&#x27;imputer&#x27;,\n",
       "                                                  SimpleImputer(fill_value=&#x27;missing&#x27;,\n",
       "                                                                strategy=&#x27;constant&#x27;)),\n",
       "                                                 (&#x27;encoder&#x27;,\n",
       "                                                  OrdinalEncoder())]),\n",
       "                                 array([&#x27;col_array&#x27;], dtype=object)),\n",
       "                                (&#x27;invariant_with_missing&#x27;,\n",
       "                                 Pipeline(steps=[(&#x27;imputer&#x27;,\n",
       "                                                  MissingIndicator(error_on_new=False))]),\n",
       "                                 array([&#x27;col_invariant_missing&#x27;], dtype=object)),\n",
       "                                (&#x27;nominal_num&#x27;,\n",
       "                                 Pip...\n",
       "                                                 (&#x27;encoder&#x27;,\n",
       "                                                  OrdinalEncoder())]),\n",
       "                                 array([&#x27;col_PATTERN1&#x27;], dtype=object)),\n",
       "                                (&#x27;nominal_str&#x27;,\n",
       "                                 Pipeline(steps=[(&#x27;imputer&#x27;,\n",
       "                                                  SimpleImputer(fill_value=&#x27;missing&#x27;,\n",
       "                                                                strategy=&#x27;constant&#x27;)),\n",
       "                                                 (&#x27;encoder&#x27;,\n",
       "                                                  OrdinalEncoder())]),\n",
       "                                 array([&#x27;col_str&#x27;], dtype=object)),\n",
       "                                (&#x27;numeric&#x27;,\n",
       "                                 Pipeline(steps=[(&#x27;imputer&#x27;,\n",
       "                                                  SimpleImputer(strategy=&#x27;median&#x27;))]),\n",
       "                                 array([&#x27;col_bool&#x27;, &#x27;col_num&#x27;], dtype=object))])</pre></div></div></div><div class=\"sk-parallel\"><div class=\"sk-parallel-item\"><div class=\"sk-item\"><div class=\"sk-label-container\"><div class=\"sk-label sk-toggleable\"><input class=\"sk-toggleable__control sk-hidden--visually\" id=\"sk-estimator-id-3\" type=\"checkbox\" ><label for=\"sk-estimator-id-3\" class=\"sk-toggleable__label sk-toggleable__label-arrow\">arrays</label><div class=\"sk-toggleable__content\"><pre>[&#x27;col_array&#x27;]</pre></div></div></div><div class=\"sk-serial\"><div class=\"sk-item\"><div class=\"sk-serial\"><div class=\"sk-item\"><div class=\"sk-estimator sk-toggleable\"><input class=\"sk-toggleable__control sk-hidden--visually\" id=\"sk-estimator-id-4\" type=\"checkbox\" ><label for=\"sk-estimator-id-4\" class=\"sk-toggleable__label sk-toggleable__label-arrow\">SimpleImputer</label><div class=\"sk-toggleable__content\"><pre>SimpleImputer(fill_value=&#x27;missing&#x27;, strategy=&#x27;constant&#x27;)</pre></div></div></div><div class=\"sk-item\"><div class=\"sk-estimator sk-toggleable\"><input class=\"sk-toggleable__control sk-hidden--visually\" id=\"sk-estimator-id-5\" type=\"checkbox\" ><label for=\"sk-estimator-id-5\" class=\"sk-toggleable__label sk-toggleable__label-arrow\">OrdinalEncoder</label><div class=\"sk-toggleable__content\"><pre>OrdinalEncoder()</pre></div></div></div></div></div></div></div></div><div class=\"sk-parallel-item\"><div class=\"sk-item\"><div class=\"sk-label-container\"><div class=\"sk-label sk-toggleable\"><input class=\"sk-toggleable__control sk-hidden--visually\" id=\"sk-estimator-id-6\" type=\"checkbox\" ><label for=\"sk-estimator-id-6\" class=\"sk-toggleable__label sk-toggleable__label-arrow\">invariant_with_missing</label><div class=\"sk-toggleable__content\"><pre>[&#x27;col_invariant_missing&#x27;]</pre></div></div></div><div class=\"sk-serial\"><div class=\"sk-item\"><div class=\"sk-serial\"><div class=\"sk-item\"><div class=\"sk-estimator sk-toggleable\"><input class=\"sk-toggleable__control sk-hidden--visually\" id=\"sk-estimator-id-7\" type=\"checkbox\" ><label for=\"sk-estimator-id-7\" class=\"sk-toggleable__label sk-toggleable__label-arrow\">MissingIndicator</label><div class=\"sk-toggleable__content\"><pre>MissingIndicator(error_on_new=False)</pre></div></div></div></div></div></div></div></div><div class=\"sk-parallel-item\"><div class=\"sk-item\"><div class=\"sk-label-container\"><div class=\"sk-label sk-toggleable\"><input class=\"sk-toggleable__control sk-hidden--visually\" id=\"sk-estimator-id-8\" type=\"checkbox\" ><label for=\"sk-estimator-id-8\" class=\"sk-toggleable__label sk-toggleable__label-arrow\">nominal_num</label><div class=\"sk-toggleable__content\"><pre>[&#x27;col_PATTERN1&#x27;]</pre></div></div></div><div class=\"sk-serial\"><div class=\"sk-item\"><div class=\"sk-serial\"><div class=\"sk-item\"><div class=\"sk-estimator sk-toggleable\"><input class=\"sk-toggleable__control sk-hidden--visually\" id=\"sk-estimator-id-9\" type=\"checkbox\" ><label for=\"sk-estimator-id-9\" class=\"sk-toggleable__label sk-toggleable__label-arrow\">SimpleImputer</label><div class=\"sk-toggleable__content\"><pre>SimpleImputer(fill_value=&#x27;missing&#x27;, strategy=&#x27;constant&#x27;)</pre></div></div></div><div class=\"sk-item\"><div class=\"sk-estimator sk-toggleable\"><input class=\"sk-toggleable__control sk-hidden--visually\" id=\"sk-estimator-id-10\" type=\"checkbox\" ><label for=\"sk-estimator-id-10\" class=\"sk-toggleable__label sk-toggleable__label-arrow\">OrdinalEncoder</label><div class=\"sk-toggleable__content\"><pre>OrdinalEncoder()</pre></div></div></div></div></div></div></div></div><div class=\"sk-parallel-item\"><div class=\"sk-item\"><div class=\"sk-label-container\"><div class=\"sk-label sk-toggleable\"><input class=\"sk-toggleable__control sk-hidden--visually\" id=\"sk-estimator-id-11\" type=\"checkbox\" ><label for=\"sk-estimator-id-11\" class=\"sk-toggleable__label sk-toggleable__label-arrow\">nominal_str</label><div class=\"sk-toggleable__content\"><pre>[&#x27;col_str&#x27;]</pre></div></div></div><div class=\"sk-serial\"><div class=\"sk-item\"><div class=\"sk-serial\"><div class=\"sk-item\"><div class=\"sk-estimator sk-toggleable\"><input class=\"sk-toggleable__control sk-hidden--visually\" id=\"sk-estimator-id-12\" type=\"checkbox\" ><label for=\"sk-estimator-id-12\" class=\"sk-toggleable__label sk-toggleable__label-arrow\">SimpleImputer</label><div class=\"sk-toggleable__content\"><pre>SimpleImputer(fill_value=&#x27;missing&#x27;, strategy=&#x27;constant&#x27;)</pre></div></div></div><div class=\"sk-item\"><div class=\"sk-estimator sk-toggleable\"><input class=\"sk-toggleable__control sk-hidden--visually\" id=\"sk-estimator-id-13\" type=\"checkbox\" ><label for=\"sk-estimator-id-13\" class=\"sk-toggleable__label sk-toggleable__label-arrow\">OrdinalEncoder</label><div class=\"sk-toggleable__content\"><pre>OrdinalEncoder()</pre></div></div></div></div></div></div></div></div><div class=\"sk-parallel-item\"><div class=\"sk-item\"><div class=\"sk-label-container\"><div class=\"sk-label sk-toggleable\"><input class=\"sk-toggleable__control sk-hidden--visually\" id=\"sk-estimator-id-14\" type=\"checkbox\" ><label for=\"sk-estimator-id-14\" class=\"sk-toggleable__label sk-toggleable__label-arrow\">numeric</label><div class=\"sk-toggleable__content\"><pre>[&#x27;col_bool&#x27; &#x27;col_num&#x27;]</pre></div></div></div><div class=\"sk-serial\"><div class=\"sk-item\"><div class=\"sk-serial\"><div class=\"sk-item\"><div class=\"sk-estimator sk-toggleable\"><input class=\"sk-toggleable__control sk-hidden--visually\" id=\"sk-estimator-id-15\" type=\"checkbox\" ><label for=\"sk-estimator-id-15\" class=\"sk-toggleable__label sk-toggleable__label-arrow\">SimpleImputer</label><div class=\"sk-toggleable__content\"><pre>SimpleImputer(strategy=&#x27;median&#x27;)</pre></div></div></div></div></div></div></div></div></div></div><div class=\"sk-item\"><div class=\"sk-estimator sk-toggleable\"><input class=\"sk-toggleable__control sk-hidden--visually\" id=\"sk-estimator-id-16\" type=\"checkbox\" ><label for=\"sk-estimator-id-16\" class=\"sk-toggleable__label sk-toggleable__label-arrow\">VarianceThreshold</label><div class=\"sk-toggleable__content\"><pre>VarianceThreshold()</pre></div></div></div></div></div></div></div>"
      ],
      "text/plain": [
       "Pipeline(steps=[('column_transformers',\n",
       "                 ColumnTransformer(transformers=[('arrays',\n",
       "                                                  Pipeline(steps=[('imputer',\n",
       "                                                                   SimpleImputer(fill_value='missing',\n",
       "                                                                                 strategy='constant')),\n",
       "                                                                  ('encoder',\n",
       "                                                                   OrdinalEncoder())]),\n",
       "                                                  array(['col_array'], dtype=object)),\n",
       "                                                 ('invariant_with_missing',\n",
       "                                                  Pipeline(steps=[('imputer',\n",
       "                                                                   MissingIndicator(error_on_new=False))]),\n",
       "                                                  array(['col_invariant_miss...\n",
       "                                                  array(['col_PATTERN1'], dtype=object)),\n",
       "                                                 ('nominal_str',\n",
       "                                                  Pipeline(steps=[('imputer',\n",
       "                                                                   SimpleImputer(fill_value='missing',\n",
       "                                                                                 strategy='constant')),\n",
       "                                                                  ('encoder',\n",
       "                                                                   OrdinalEncoder())]),\n",
       "                                                  array(['col_str'], dtype=object)),\n",
       "                                                 ('numeric',\n",
       "                                                  Pipeline(steps=[('imputer',\n",
       "                                                                   SimpleImputer(strategy='median'))]),\n",
       "                                                  array(['col_bool', 'col_num'], dtype=object))])),\n",
       "                ('feature_selection', VarianceThreshold())])"
      ]
     },
     "execution_count": 16,
     "metadata": {},
     "output_type": "execute_result"
    }
   ],
   "source": [
    "preprocessor = build_preprocessor(\n",
    "        schema_train,\n",
    "        transformer_map=transformer_map,\n",
    "        preprocessor_steps=preprocessor_steps\n",
    "    )\n",
    "preprocessor"
   ]
  },
  {
   "cell_type": "markdown",
   "id": "5416dac9-aac7-4031-a359-9361deea5838",
   "metadata": {},
   "source": [
    "This shows that each custom dtype from the training schema is represented as an independent column transformer and its associated method is applied to each. And the constructed preprocessor is simply a sklearn pipeline object, so we can apply `fit_transform` to transform the raw data."
   ]
  },
  {
   "cell_type": "code",
   "execution_count": 17,
   "id": "070aa398-5c1e-47fa-b886-dd618aba4eb6",
   "metadata": {
    "tags": []
   },
   "outputs": [
    {
     "data": {
      "text/plain": [
       "array([[ 2.  ,  1.  ,  0.  ,  2.  ,  0.5 ,  5.25],\n",
       "       [ 0.  ,  0.  ,  1.  ,  0.  ,  1.  ,  0.5 ],\n",
       "       [ 1.  ,  0.  ,  2.  ,  1.  ,  0.  , 10.  ]])"
      ]
     },
     "execution_count": 17,
     "metadata": {},
     "output_type": "execute_result"
    }
   ],
   "source": [
    "X_train_transformed = preprocessor.fit_transform(X_train)\n",
    "X_train_transformed"
   ]
  },
  {
   "cell_type": "markdown",
   "id": "4f91d017-8c0e-41ff-8bbc-f7415cacc602",
   "metadata": {},
   "source": [
    "## Model serving stage"
   ]
  },
  {
   "cell_type": "markdown",
   "id": "262db662-ca46-47fa-9961-82ec6f32132e",
   "metadata": {},
   "source": [
    "During serving, the feature set is likely to have changed. The mismatch between training and serving is resolved by schema comparison. In this walkthrough, let's create a toy serving data where we have both shape (`\"col_bool\"` has string values) and type (`\"col_extra\"` is added) mismatches."
   ]
  },
  {
   "cell_type": "code",
   "execution_count": 18,
   "id": "bd2851a6-c80b-410d-8b76-65736d9b2a29",
   "metadata": {
    "tags": []
   },
   "outputs": [],
   "source": [
    "X_serve = X_train.copy()\n",
    "X_serve[\"col_extra\"] = [np.nan, \"C\", \"D\"]\n",
    "X_serve[\"col_bool\"] = [np.nan, \"A\", \"B\"]"
   ]
  },
  {
   "cell_type": "code",
   "execution_count": 19,
   "id": "93673a70-d418-4b49-8987-a78c1958a1ec",
   "metadata": {
    "tags": []
   },
   "outputs": [
    {
     "data": {
      "text/html": [
       "<div>\n",
       "<style scoped>\n",
       "    .dataframe tbody tr th:only-of-type {\n",
       "        vertical-align: middle;\n",
       "    }\n",
       "\n",
       "    .dataframe tbody tr th {\n",
       "        vertical-align: top;\n",
       "    }\n",
       "\n",
       "    .dataframe thead th {\n",
       "        text-align: right;\n",
       "    }\n",
       "</style>\n",
       "<table border=\"1\" class=\"dataframe\">\n",
       "  <thead>\n",
       "    <tr style=\"text-align: right;\">\n",
       "      <th></th>\n",
       "      <th>col_bool</th>\n",
       "      <th>col_num</th>\n",
       "      <th>col_str</th>\n",
       "      <th>col_array</th>\n",
       "      <th>col_PATTERN1</th>\n",
       "      <th>col_invariant_missing</th>\n",
       "      <th>col_extra</th>\n",
       "    </tr>\n",
       "  </thead>\n",
       "  <tbody>\n",
       "    <tr>\n",
       "      <th>0</th>\n",
       "      <td>NaN</td>\n",
       "      <td>NaN</td>\n",
       "      <td>nan</td>\n",
       "      <td>nan</td>\n",
       "      <td>1</td>\n",
       "      <td>NaN</td>\n",
       "      <td>NaN</td>\n",
       "    </tr>\n",
       "    <tr>\n",
       "      <th>1</th>\n",
       "      <td>A</td>\n",
       "      <td>0.5</td>\n",
       "      <td>A</td>\n",
       "      <td>['A']</td>\n",
       "      <td>2</td>\n",
       "      <td>0.0</td>\n",
       "      <td>C</td>\n",
       "    </tr>\n",
       "    <tr>\n",
       "      <th>2</th>\n",
       "      <td>B</td>\n",
       "      <td>10.0</td>\n",
       "      <td>B</td>\n",
       "      <td>['B']</td>\n",
       "      <td>3</td>\n",
       "      <td>0.0</td>\n",
       "      <td>D</td>\n",
       "    </tr>\n",
       "  </tbody>\n",
       "</table>\n",
       "</div>"
      ],
      "text/plain": [
       "  col_bool  col_num col_str col_array col_PATTERN1  col_invariant_missing  \\\n",
       "0      NaN      NaN     nan       nan            1                    NaN   \n",
       "1        A      0.5       A     ['A']            2                    0.0   \n",
       "2        B     10.0       B     ['B']            3                    0.0   \n",
       "\n",
       "  col_extra  \n",
       "0       NaN  \n",
       "1         C  \n",
       "2         D  "
      ]
     },
     "execution_count": 19,
     "metadata": {},
     "output_type": "execute_result"
    }
   ],
   "source": [
    "X_serve"
   ]
  },
  {
   "cell_type": "markdown",
   "id": "3db77460-b1cf-49cc-8c60-c90b3525de51",
   "metadata": {},
   "source": [
    "### Step 1. Infer a schema from a serving data"
   ]
  },
  {
   "cell_type": "markdown",
   "id": "85ceba76-a5f5-406a-b3f9-4d4678610094",
   "metadata": {},
   "source": [
    "To compare schemas between training and serving, we need to first create a schema during serving. This step is identical to the model training stage."
   ]
  },
  {
   "cell_type": "code",
   "execution_count": 20,
   "id": "be617cc5-6a79-4d96-bdd3-0f930790fc40",
   "metadata": {
    "tags": []
   },
   "outputs": [],
   "source": [
    "X_serve = drop_non_informative_features(X_serve, seed_patterns=[\"SEED$\"])\n",
    "schema_serve = build_schema(\n",
    "    X_serve,\n",
    "    numpy_dtype_map=numpy_dtype_map,\n",
    "    custom_dtype_map=custom_dtype_map,\n",
    "    nominal_num_patterns=nominal_num_patterns,\n",
    "    catch_invariant_with_missing=True\n",
    "    )\n",
    "X_serve = cast_numpy_dtype(X_serve, schema_serve)"
   ]
  },
  {
   "cell_type": "code",
   "execution_count": 21,
   "id": "2baef025-2362-4976-a097-e3019239309b",
   "metadata": {
    "tags": []
   },
   "outputs": [
    {
     "data": {
      "text/html": [
       "<div>\n",
       "<style scoped>\n",
       "    .dataframe tbody tr th:only-of-type {\n",
       "        vertical-align: middle;\n",
       "    }\n",
       "\n",
       "    .dataframe tbody tr th {\n",
       "        vertical-align: top;\n",
       "    }\n",
       "\n",
       "    .dataframe thead th {\n",
       "        text-align: right;\n",
       "    }\n",
       "</style>\n",
       "<table border=\"1\" class=\"dataframe\">\n",
       "  <thead>\n",
       "    <tr style=\"text-align: right;\">\n",
       "      <th></th>\n",
       "      <th>pandas_dtype</th>\n",
       "      <th>numpy_dtype</th>\n",
       "      <th>custom_dtype</th>\n",
       "    </tr>\n",
       "  </thead>\n",
       "  <tbody>\n",
       "    <tr>\n",
       "      <th>col_bool</th>\n",
       "      <td>string</td>\n",
       "      <td>&lt;class 'str'&gt;</td>\n",
       "      <td>nominal_str</td>\n",
       "    </tr>\n",
       "    <tr>\n",
       "      <th>col_num</th>\n",
       "      <td>floating</td>\n",
       "      <td>&lt;class 'float'&gt;</td>\n",
       "      <td>numeric</td>\n",
       "    </tr>\n",
       "    <tr>\n",
       "      <th>col_str</th>\n",
       "      <td>string</td>\n",
       "      <td>&lt;class 'str'&gt;</td>\n",
       "      <td>nominal_str</td>\n",
       "    </tr>\n",
       "    <tr>\n",
       "      <th>col_array</th>\n",
       "      <td>string</td>\n",
       "      <td>&lt;class 'str'&gt;</td>\n",
       "      <td>nominal_str</td>\n",
       "    </tr>\n",
       "    <tr>\n",
       "      <th>col_PATTERN1</th>\n",
       "      <td>string</td>\n",
       "      <td>&lt;class 'str'&gt;</td>\n",
       "      <td>nominal_num</td>\n",
       "    </tr>\n",
       "    <tr>\n",
       "      <th>col_invariant_missing</th>\n",
       "      <td>floating</td>\n",
       "      <td>&lt;class 'float'&gt;</td>\n",
       "      <td>invariant_with_missing</td>\n",
       "    </tr>\n",
       "    <tr>\n",
       "      <th>col_extra</th>\n",
       "      <td>string</td>\n",
       "      <td>&lt;class 'str'&gt;</td>\n",
       "      <td>nominal_str</td>\n",
       "    </tr>\n",
       "  </tbody>\n",
       "</table>\n",
       "</div>"
      ],
      "text/plain": [
       "                      pandas_dtype      numpy_dtype            custom_dtype\n",
       "col_bool                    string    <class 'str'>             nominal_str\n",
       "col_num                   floating  <class 'float'>                 numeric\n",
       "col_str                     string    <class 'str'>             nominal_str\n",
       "col_array                   string    <class 'str'>             nominal_str\n",
       "col_PATTERN1                string    <class 'str'>             nominal_num\n",
       "col_invariant_missing     floating  <class 'float'>  invariant_with_missing\n",
       "col_extra                   string    <class 'str'>             nominal_str"
      ]
     },
     "execution_count": 21,
     "metadata": {},
     "output_type": "execute_result"
    }
   ],
   "source": [
    "schema_serve"
   ]
  },
  {
   "cell_type": "markdown",
   "id": "dcb451bf-277e-44b1-a6b9-e96835e66fe5",
   "metadata": {},
   "source": [
    "### Step 2. Resolve mismatches"
   ]
  },
  {
   "cell_type": "markdown",
   "id": "67c6c66f-5ce1-4681-9927-2a1c82241c9f",
   "metadata": {},
   "source": [
    "First, we resolve any shape (feature-set) mismatches. Unseen columns are dropped and missing columns are added back as nulls, and later imputed by a fitted preprocessor. "
   ]
  },
  {
   "cell_type": "code",
   "execution_count": 22,
   "id": "15362417-9a94-47e2-84fc-274b0a3ca530",
   "metadata": {
    "tags": []
   },
   "outputs": [
    {
     "name": "stderr",
     "output_type": "stream",
     "text": [
      "Columns ['col_extra'] were dropped because they are not in X.\n"
     ]
    },
    {
     "data": {
      "text/html": [
       "<div>\n",
       "<style scoped>\n",
       "    .dataframe tbody tr th:only-of-type {\n",
       "        vertical-align: middle;\n",
       "    }\n",
       "\n",
       "    .dataframe tbody tr th {\n",
       "        vertical-align: top;\n",
       "    }\n",
       "\n",
       "    .dataframe thead th {\n",
       "        text-align: right;\n",
       "    }\n",
       "</style>\n",
       "<table border=\"1\" class=\"dataframe\">\n",
       "  <thead>\n",
       "    <tr style=\"text-align: right;\">\n",
       "      <th></th>\n",
       "      <th>col_bool</th>\n",
       "      <th>col_num</th>\n",
       "      <th>col_str</th>\n",
       "      <th>col_array</th>\n",
       "      <th>col_PATTERN1</th>\n",
       "      <th>col_invariant_missing</th>\n",
       "    </tr>\n",
       "  </thead>\n",
       "  <tbody>\n",
       "    <tr>\n",
       "      <th>0</th>\n",
       "      <td>nan</td>\n",
       "      <td>NaN</td>\n",
       "      <td>nan</td>\n",
       "      <td>nan</td>\n",
       "      <td>1</td>\n",
       "      <td>NaN</td>\n",
       "    </tr>\n",
       "    <tr>\n",
       "      <th>1</th>\n",
       "      <td>A</td>\n",
       "      <td>0.5</td>\n",
       "      <td>A</td>\n",
       "      <td>['A']</td>\n",
       "      <td>2</td>\n",
       "      <td>0.0</td>\n",
       "    </tr>\n",
       "    <tr>\n",
       "      <th>2</th>\n",
       "      <td>B</td>\n",
       "      <td>10.0</td>\n",
       "      <td>B</td>\n",
       "      <td>['B']</td>\n",
       "      <td>3</td>\n",
       "      <td>0.0</td>\n",
       "    </tr>\n",
       "  </tbody>\n",
       "</table>\n",
       "</div>"
      ],
      "text/plain": [
       "  col_bool  col_num col_str col_array col_PATTERN1  col_invariant_missing\n",
       "0      nan      NaN     nan       nan            1                    NaN\n",
       "1        A      0.5       A     ['A']            2                    0.0\n",
       "2        B     10.0       B     ['B']            3                    0.0"
      ]
     },
     "execution_count": 22,
     "metadata": {},
     "output_type": "execute_result"
    }
   ],
   "source": [
    "X_serve = match_cols(X_serve, schema_train.index)\n",
    "X_serve"
   ]
  },
  {
   "cell_type": "markdown",
   "id": "e6ca4fbd-1954-4d34-9f07-a4e407e3c94d",
   "metadata": {},
   "source": [
    "Next, we resolve the type mismatch. When there is type mismatch, model prediction will fail, but there is no easy way to resolve this automatically. Thus, we replace the mismatched columns as nulls, which will be imputed by fitted preprocessor later. **Note that the intention behind this simple resolution is NOT to ignore data drifts but to avoid frequent pipeline failures because these mismatches are very common. Whenever mismatches occur, we create an alert to start manual data inspection.**"
   ]
  },
  {
   "cell_type": "code",
   "execution_count": 23,
   "id": "328a2ea1-d26d-4522-8100-86c3e2281656",
   "metadata": {
    "tags": []
   },
   "outputs": [
    {
     "name": "stderr",
     "output_type": "stream",
     "text": [
      "/Users/hongsupshin/SynologyDrive/Sync/Projects/Scipy/data_centric_preprocessing/Notebooks/../data_centric_preprocessing/util.py:165: UserWarning: Numpy dtype mismatches are replaced with nulls.\n",
      "  warnings.warn(\"Numpy dtype mismatches are replaced with nulls.\", UserWarning)\n"
     ]
    },
    {
     "data": {
      "text/html": [
       "<div>\n",
       "<style scoped>\n",
       "    .dataframe tbody tr th:only-of-type {\n",
       "        vertical-align: middle;\n",
       "    }\n",
       "\n",
       "    .dataframe tbody tr th {\n",
       "        vertical-align: top;\n",
       "    }\n",
       "\n",
       "    .dataframe thead th {\n",
       "        text-align: right;\n",
       "    }\n",
       "</style>\n",
       "<table border=\"1\" class=\"dataframe\">\n",
       "  <thead>\n",
       "    <tr style=\"text-align: right;\">\n",
       "      <th></th>\n",
       "      <th>col_bool</th>\n",
       "      <th>col_num</th>\n",
       "      <th>col_str</th>\n",
       "      <th>col_array</th>\n",
       "      <th>col_PATTERN1</th>\n",
       "      <th>col_invariant_missing</th>\n",
       "    </tr>\n",
       "  </thead>\n",
       "  <tbody>\n",
       "    <tr>\n",
       "      <th>0</th>\n",
       "      <td>NaN</td>\n",
       "      <td>NaN</td>\n",
       "      <td>nan</td>\n",
       "      <td>nan</td>\n",
       "      <td>1</td>\n",
       "      <td>NaN</td>\n",
       "    </tr>\n",
       "    <tr>\n",
       "      <th>1</th>\n",
       "      <td>NaN</td>\n",
       "      <td>0.5</td>\n",
       "      <td>A</td>\n",
       "      <td>['A']</td>\n",
       "      <td>2</td>\n",
       "      <td>0.0</td>\n",
       "    </tr>\n",
       "    <tr>\n",
       "      <th>2</th>\n",
       "      <td>NaN</td>\n",
       "      <td>10.0</td>\n",
       "      <td>B</td>\n",
       "      <td>['B']</td>\n",
       "      <td>3</td>\n",
       "      <td>0.0</td>\n",
       "    </tr>\n",
       "  </tbody>\n",
       "</table>\n",
       "</div>"
      ],
      "text/plain": [
       "   col_bool  col_num col_str col_array col_PATTERN1  col_invariant_missing\n",
       "0       NaN      NaN     nan       nan            1                    NaN\n",
       "1       NaN      0.5       A     ['A']            2                    0.0\n",
       "2       NaN     10.0       B     ['B']            3                    0.0"
      ]
     },
     "execution_count": 23,
     "metadata": {},
     "output_type": "execute_result"
    }
   ],
   "source": [
    "X_serve = replace_numpy_dtype_mismatch(schema_train, schema_serve, X_serve)\n",
    "X_serve"
   ]
  },
  {
   "cell_type": "markdown",
   "id": "73a6fd45-f8ac-4056-b2bc-276f49461e22",
   "metadata": {},
   "source": [
    "Here, you can see that `\"col_bool\"` which has a different dtype (string) during serving now have null values."
   ]
  },
  {
   "cell_type": "markdown",
   "id": "b508aed4-df83-442f-95ce-26146d97a58b",
   "metadata": {},
   "source": [
    "### Step 3. Transform the serving data"
   ]
  },
  {
   "cell_type": "markdown",
   "id": "084b69f6-95a5-4c98-a1fd-636696888311",
   "metadata": {},
   "source": [
    "Once mismatches are resolved, we apply the fitted preprocessor to transform the serving data."
   ]
  },
  {
   "cell_type": "code",
   "execution_count": 24,
   "id": "f677d81e-e038-49a9-8dc4-11edd3d269b0",
   "metadata": {
    "tags": []
   },
   "outputs": [
    {
     "data": {
      "text/plain": [
       "array([[ 2.  ,  1.  ,  0.  ,  2.  ,  0.5 ,  5.25],\n",
       "       [ 0.  ,  0.  ,  1.  ,  0.  ,  0.5 ,  0.5 ],\n",
       "       [ 1.  ,  0.  ,  2.  ,  1.  ,  0.5 , 10.  ]])"
      ]
     },
     "execution_count": 24,
     "metadata": {},
     "output_type": "execute_result"
    }
   ],
   "source": [
    "X_serve_transformed = preprocessor.transform(X_serve)\n",
    "X_serve_transformed"
   ]
  },
  {
   "cell_type": "markdown",
   "id": "1da7ce0f-de2d-44ef-bbba-1d51b910b2cf",
   "metadata": {},
   "source": [
    "## Conclusions"
   ]
  },
  {
   "cell_type": "markdown",
   "id": "a85f4f5c-2343-4128-ba05-a6760d3c8ffa",
   "metadata": {},
   "source": [
    "Many data-related challengs exist in hardware verification. There's no schema, data drifts are frequent, and we need to infer data types correctly. The data-centric ML pipeline shown in this walkthrough can address this issue by inferring schema from raw data, building preprocessors directly from it, and quickly resolving shape and type mismatches during model serving. This approach makes data preprocessing modular and transparent, and it tracks granular information of the contents of the data over time. Since it uses common pythong packages such as pandas and sklearn, it can be easily integrated into other existing data and model pipelines."
   ]
  }
 ],
 "metadata": {
  "kernelspec": {
   "display_name": "Python 3 (ipykernel)",
   "language": "python",
   "name": "python3"
  },
  "language_info": {
   "codemirror_mode": {
    "name": "ipython",
    "version": 3
   },
   "file_extension": ".py",
   "mimetype": "text/x-python",
   "name": "python",
   "nbconvert_exporter": "python",
   "pygments_lexer": "ipython3",
   "version": "3.9.16"
  }
 },
 "nbformat": 4,
 "nbformat_minor": 5
}
